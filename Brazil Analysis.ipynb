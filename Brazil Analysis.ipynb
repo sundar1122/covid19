{
 "cells": [
  {
   "cell_type": "code",
   "execution_count": 4,
   "metadata": {},
   "outputs": [],
   "source": [
    "## imports\n",
    "import pandas as pd\n",
    "from matplotlib import pyplot as plt\n",
    "%matplotlib inline\n",
    "import statsmodels.tsa.ar_model\n",
    "from sklearn.metrics import mean_squared_error\n",
    "import numpy as np\n",
    "from math import sqrt"
   ]
  },
  {
   "cell_type": "code",
   "execution_count": 7,
   "metadata": {
    "pycharm": {
     "name": "#%%\n"
    }
   },
   "outputs": [
    {
     "data": {
      "text/html": [
       "<div>\n",
       "<style scoped>\n",
       "    .dataframe tbody tr th:only-of-type {\n",
       "        vertical-align: middle;\n",
       "    }\n",
       "\n",
       "    .dataframe tbody tr th {\n",
       "        vertical-align: top;\n",
       "    }\n",
       "\n",
       "    .dataframe thead th {\n",
       "        text-align: right;\n",
       "    }\n",
       "</style>\n",
       "<table border=\"1\" class=\"dataframe\">\n",
       "  <thead>\n",
       "    <tr style=\"text-align: right;\">\n",
       "      <th></th>\n",
       "      <th>date</th>\n",
       "      <th>region</th>\n",
       "      <th>state</th>\n",
       "      <th>cases</th>\n",
       "      <th>deaths</th>\n",
       "    </tr>\n",
       "  </thead>\n",
       "  <tbody>\n",
       "    <tr>\n",
       "      <th>0</th>\n",
       "      <td>2020-02-26</td>\n",
       "      <td>Sudeste</td>\n",
       "      <td>São Paulo</td>\n",
       "      <td>1</td>\n",
       "      <td>0</td>\n",
       "    </tr>\n",
       "    <tr>\n",
       "      <th>1</th>\n",
       "      <td>2020-02-27</td>\n",
       "      <td>Sudeste</td>\n",
       "      <td>São Paulo</td>\n",
       "      <td>1</td>\n",
       "      <td>0</td>\n",
       "    </tr>\n",
       "    <tr>\n",
       "      <th>2</th>\n",
       "      <td>2020-02-28</td>\n",
       "      <td>Sudeste</td>\n",
       "      <td>São Paulo</td>\n",
       "      <td>1</td>\n",
       "      <td>0</td>\n",
       "    </tr>\n",
       "    <tr>\n",
       "      <th>3</th>\n",
       "      <td>2020-02-29</td>\n",
       "      <td>Sudeste</td>\n",
       "      <td>São Paulo</td>\n",
       "      <td>2</td>\n",
       "      <td>0</td>\n",
       "    </tr>\n",
       "    <tr>\n",
       "      <th>4</th>\n",
       "      <td>2020-03-01</td>\n",
       "      <td>Sudeste</td>\n",
       "      <td>São Paulo</td>\n",
       "      <td>2</td>\n",
       "      <td>0</td>\n",
       "    </tr>\n",
       "  </tbody>\n",
       "</table>\n",
       "</div>"
      ],
      "text/plain": [
       "         date   region      state  cases  deaths\n",
       "0  2020-02-26  Sudeste  São Paulo      1       0\n",
       "1  2020-02-27  Sudeste  São Paulo      1       0\n",
       "2  2020-02-28  Sudeste  São Paulo      1       0\n",
       "3  2020-02-29  Sudeste  São Paulo      2       0\n",
       "4  2020-03-01  Sudeste  São Paulo      2       0"
      ]
     },
     "execution_count": 7,
     "metadata": {},
     "output_type": "execute_result"
    }
   ],
   "source": [
    "## loading and reading in csv dataset using pandas\n",
    "brazil_df = pd.read_csv('brazil_covid19.csv')\n",
    "brazil_df.head()"
   ]
  },
  {
   "cell_type": "code",
   "execution_count": 53,
   "metadata": {},
   "outputs": [],
   "source": [
    "brazil_df['date'] = pd.to_datetime(brazil_df['date'])"
   ]
  },
  {
   "cell_type": "code",
   "execution_count": 10,
   "metadata": {},
   "outputs": [],
   "source": [
    "brazil_df_sort = brazil_df.sort_values(by = 'date')"
   ]
  },
  {
   "cell_type": "code",
   "execution_count": 11,
   "metadata": {},
   "outputs": [],
   "source": [
    "date_cases = {}\n",
    "date_cases_keys = brazil_df_sort['date']\n",
    "\n",
    "final_keys = []\n",
    "for date in date_cases_keys:\n",
    "    if date not in final_keys:\n",
    "        final_keys.append(date)\n",
    "date_cases_values = []\n",
    "\n",
    "test_d = '2/24/20'\n",
    "\n",
    "for d in date_cases_keys:\n",
    "    if d != test_d:\n",
    "        value = brazil_df_sort[brazil_df_sort['date'] == d]['cases'].sum()\n",
    "        date_cases_values.append(value)\n",
    "        test_d = d\n",
    "\n",
    "new_columns = list(zip(final_keys, date_cases_values))\n",
    "new_df = pd.DataFrame(new_columns, columns = ['Date', 'Obs Cases'])"
   ]
  },
  {
   "cell_type": "code",
   "execution_count": 12,
   "metadata": {},
   "outputs": [],
   "source": [
    "date_cases = {final_keys[i]: date_cases_values[i] for i in range(len(final_keys))} \n",
    "date_case = pd.DataFrame.from_dict(date_cases, orient= 'index', columns = ['Cases'])"
   ]
  },
  {
   "cell_type": "code",
   "execution_count": 13,
   "metadata": {},
   "outputs": [],
   "source": [
    "brazil_df_sort['date'] = pd.to_datetime(brazil_df_sort['date'])"
   ]
  },
  {
   "cell_type": "code",
   "execution_count": 14,
   "metadata": {},
   "outputs": [],
   "source": [
    "dates_list = []\n",
    "for date in brazil_df_sort['date']:\n",
    "    if date not in dates_list:\n",
    "        dates_list.append(date)\n",
    "date_cases_2 = {dates_list[i]: date_cases_values[i] for i in range(len(dates_list))} \n",
    "date_case_2 = pd.DataFrame.from_dict(date_cases_2, orient= 'index', columns = ['Cases'])"
   ]
  },
  {
   "cell_type": "code",
   "execution_count": 127,
   "metadata": {},
   "outputs": [],
   "source": [
    "dates_cases = list(zip(dates_list, date_case_2['Cases']))\n",
    "compiled = pd.DataFrame(dates_cases, columns = ['dates', 'cases'])\n",
    "compiled['region'] = np.nan\n",
    "compiled['state'] = np.nan\n",
    "compiled['newCases'] = np.nan\n",
    "compiled['deaths'] = np.nan"
   ]
  },
  {
   "cell_type": "code",
   "execution_count": 15,
   "metadata": {
    "scrolled": true
   },
   "outputs": [
    {
     "data": {
      "image/png": "[encoded data removed]",
      "text/plain": [
       "<Figure size 432x288 with 1 Axes>"
      ]
     },
     "metadata": {},
     "output_type": "display_data"
    }
   ],
   "source": [
    "date_case_2['Cases'].plot()\n",
    "plt.show()"
   ]
  },
  {
   "cell_type": "code",
   "execution_count": 171,
   "metadata": {},
   "outputs": [],
   "source": [
    "def est_trend(data, n, new_df):\n",
    "    ##Estimating Trend\n",
    "    data_est = np.log(data)\n",
    "\n",
    "    \n",
    "    ##calculating moving averages\n",
    "\n",
    "    movingAvg = data_est.rolling(window=12).mean()\n",
    "    movingStd = data_est.rolling(window = 12).std()\n",
    "    \n",
    "    #fig, axs = plt.subplots(3)\n",
    "    \n",
    "    plt.figure(1)\n",
    "    plt.plot(data_est)\n",
    "    plt.plot(movingAvg, color = 'red')\n",
    "    \n",
    "    ##diff between moving averages and actual cases\n",
    "    diff = data_est - movingAvg\n",
    "    ##remove null values\n",
    "    diff.dropna(inplace = True)\n",
    "    \n",
    "    plt.figure(2)\n",
    "    plt.plot(diff)\n",
    "    plt.plot(movingAvg, color = 'red', label = 'MovingAvg')\n",
    "    plt.plot(movingStd, color = 'black', label = 'MovingStd')\n",
    "    \n",
    "\n",
    "    ##reperform Dickey-Fuller Test on transformed data to check stationarity\n",
    "    print(\"Results of Dickey-Fuller Test\")\n",
    "    test = adfuller(data_est['Cases'], autolag = \"AIC\")\n",
    "\n",
    "    output = pd.Series(test[0:4], index = ['Test Statistic', 'p-value', '#Lags Used', 'Number of Observations Used'])\n",
    "    for k,v in test[4].items():\n",
    "        output['Critical Value (%s)'%k] = v\n",
    "    \n",
    "    print(output)\n",
    "    \n",
    "    ##calculate weighted average\n",
    "    weight_avg = data_est.ewm(halflife = 12, min_periods = 0, adjust = True).mean()\n",
    "    \n",
    "    ##exponentiate to reverse log transformation (e^x)\n",
    "    data_est = np.exp(data_est)\n",
    "    \n",
    "    ## prediction \n",
    "    \n",
    "   \n",
    "    from statsmodels.tsa.ar_model import AR\n",
    "    from sklearn.metrics import r2_score\n",
    "\n",
    "    ##split data into train and test\n",
    "    X = (data_est).dropna()\n",
    "    n = int(np.floor(0.2 * len(X)))\n",
    "    train = X[1: len(X) - n]\n",
    "    test = X\n",
    "    \n",
    "    ##fit and train model using split data\n",
    "    model = AR(train)\n",
    "    model_fitted = model.fit()\n",
    "    print('the lag value is: %s' % model_fitted.k_ar)\n",
    "    lag = model_fitted.k_ar\n",
    "    lag = lag + 1\n",
    "    \n",
    "    predict = model_fitted.predict(start = lag, end = len(test) , dynamic = False)\n",
    "\n",
    "    ##plot predicted data vs. true/observed data\n",
    "    plt.figure(3)\n",
    "    plt.title(\"Predicted vs. Observed Cases\")\n",
    "    plt.legend()\n",
    "    plt.plot(data_est, color = 'blue')\n",
    "    plt.plot(predict, color = 'red')\n",
    "    \n",
    "    ## error analysis - try a few different methods\n",
    "    \n",
    "    #r^2 error analysis - not metric to show if model is a good future predictor, but shows if model is good fit to \n",
    "    #observed data\n",
    "    r2_err = r2_score(data_est.tail(len(X) - lag +1), predict)\n",
    "    print('R^2 error: %s' % r2_err)\n",
    "    \n",
    "    #mean absolute error - measuring prediction errors because prediction in same unit as original (avg forecast error)\n",
    "    from sklearn.metrics import mean_absolute_error\n",
    "    mae = mean_absolute_error(data_est.tail(len(X) - lag + 1), predict)\n",
    "    print('Mean Absolute Error: %s' % mae)\n",
    "    \n",
    "    #root mean squared error - sqrt average of square of forecase error (mse): basically same as mse but when dealing\n",
    "    #with prediction in same unit as original - how concentrated is data around line of best fit\n",
    "    from sklearn.metrics import mean_squared_error\n",
    "    mse = mean_squared_error(predict, data_est.tail(len(X) - lag + 1))\n",
    "    print('Mean squared error: %s' % mse)\n",
    "    \n",
    "    rmse = np.sqrt(mse)\n",
    "    print('Root mean squared error: %s' % rmse)\n",
    "    \n",
    "    new_pred = [np.nan] * (lag - 1)\n",
    "    new_pred = new_pred + list(predict)\n",
    "    \n",
    "    new_df['Y_predicted'] = new_pred\n",
    "    new_df['Y_original'] = list(data_est['Cases'])\n",
    "    \n",
    "    return new_df"
   ]
  },
  {
   "cell_type": "code",
   "execution_count": 172,
   "metadata": {
    "scrolled": true
   },
   "outputs": [
    {
     "name": "stderr",
     "output_type": "stream",
     "text": [
      "/Users/anyaaggarwal/anaconda3/lib/python3.6/site-packages/statsmodels/tsa/base/tsa_model.py:171: ValueWarning: No frequency information was provided, so inferred frequency D will be used.\n",
      "  % freq, ValueWarning)\n",
      "No handles with labels found to put in legend.\n"
     ]
    },
    {
     "name": "stdout",
     "output_type": "stream",
     "text": [
      "Results of Dickey-Fuller Test\n",
      "Test Statistic                 -3.428922\n",
      "p-value                         0.010012\n",
      "#Lags Used                      8.000000\n",
      "Number of Observations Used    70.000000\n",
      "Critical Value (1%)            -3.527426\n",
      "Critical Value (5%)            -2.903811\n",
      "Critical Value (10%)           -2.589320\n",
      "dtype: float64\n",
      "the lag value is: 11\n",
      "R^2 error: 0.8806235601562162\n",
      "Mean Absolute Error: 10413.141996807324\n",
      "Mean squared error: 367459370.2028556\n",
      "Root mean squared error: 19169.22977594185\n"
     ]
    },
    {
     "data": {
      "image/png": "[encoded data removed]",
      "text/plain": [
       "<Figure size 432x288 with 1 Axes>"
      ]
     },
     "metadata": {},
     "output_type": "display_data"
    },
    {
     "data": {
      "image/png": "[encoded data removed]",
      "text/plain": [
       "<Figure size 432x288 with 1 Axes>"
      ]
     },
     "metadata": {},
     "output_type": "display_data"
    },
    {
     "data": {
      "image/png": "[encoded data removed]",
      "text/plain": [
       "<Figure size 432x288 with 1 Axes>"
      ]
     },
     "metadata": {},
     "output_type": "display_data"
    }
   ],
   "source": [
    "comb = est_trend(date_case_2, 40, compiled)"
   ]
  },
  {
   "cell_type": "code",
   "execution_count": 188,
   "metadata": {},
   "outputs": [
    {
     "name": "stderr",
     "output_type": "stream",
     "text": [
      "/Users/anyaaggarwal/anaconda3/lib/python3.6/site-packages/ipykernel_launcher.py:5: SettingWithCopyWarning: \n",
      "A value is trying to be set on a copy of a slice from a DataFrame\n",
      "\n",
      "See the caveats in the documentation: http://pandas.pydata.org/pandas-docs/stable/indexing.html#indexing-view-versus-copy\n",
      "  \"\"\"\n"
     ]
    },
    {
     "name": "stdout",
     "output_type": "stream",
     "text": [
      "Average Percent Error: 0.6068954983386067\n",
      "0.3012430523868946\n"
     ]
    }
   ],
   "source": [
    "comb['Error'] = np.nan\n",
    "n = 0\n",
    "while (n < len(comb['Y_predicted'])):\n",
    "    error = (comb['Y_predicted'][n] - comb['Y_original'][n]) / comb['Y_original'][n]\n",
    "    comb['Error'][n] = error\n",
    "    n += 1\n",
    "print(\"Average Percent Error: %s\" % np.mean(comb['Error']))\n",
    "print(np.sum(comb['Error'][18:]) / (79-18))"
   ]
  },
  {
   "cell_type": "code",
   "execution_count": 189,
   "metadata": {},
   "outputs": [],
   "source": [
    "comb.to_csv('compiled_brazil.csv')"
   ]
  },
  {
   "cell_type": "code",
   "execution_count": 43,
   "metadata": {},
   "outputs": [],
   "source": [
    "brazil_new_df = pd.read_csv('brazil_covid19_new.csv')"
   ]
  },
  {
   "cell_type": "code",
   "execution_count": 55,
   "metadata": {},
   "outputs": [],
   "source": [
    "brazil_new_df['date'] = pd.to_datetime(brazil_new_df['date'])"
   ]
  },
  {
   "cell_type": "code",
   "execution_count": 69,
   "metadata": {},
   "outputs": [],
   "source": [
    "new_dates = []\n",
    "new_cases = []\n",
    "date = brazil_new_df['date'][1680]\n",
    "while (date <= datetime.strptime('2020-05-26', '%Y-%m-%d')):\n",
    "    total = 0\n",
    "    for x in brazil_new_df[brazil_new_df['date'] == date]['cases']:\n",
    "        total = total + x\n",
    "    new_cases.append(total)\n",
    "    new_dates.append(date)\n",
    "    date = date + timedelta(1)\n",
    "new_case= list(zip(new_dates, new_cases))\n",
    "new_case_df = pd.DataFrame(new_case, columns = ['New Dates', 'New Cases'])"
   ]
  },
  {
   "cell_type": "code",
   "execution_count": 81,
   "metadata": {
    "scrolled": false
   },
   "outputs": [],
   "source": [
    "from statsmodels.tsa.ar_model import AR\n",
    "from sklearn.metrics import r2_score\n",
    "\n",
    "def orig_pred(data, new_data):\n",
    "\n",
    "    Y = data\n",
    "    n = int(np.floor(0.05 * len(Y)))\n",
    "    train = Y[: len(Y) - n]\n",
    "    test = Y\n",
    "\n",
    "    model = AR(train)\n",
    "    model_fitted = model.fit()\n",
    "    print('the lag value is: %s' % model_fitted.k_ar)\n",
    "    lag = model_fitted.k_ar\n",
    "\n",
    "    predict = model_fitted.predict(start = lag, end = len(test) - 1 + 12, dynamic = False)\n",
    "\n",
    "\n",
    "    plt.plot(data)\n",
    "    plt.title(\"Original Data Prediction (No Transformation)\")\n",
    "    plt.plot(predict, color = 'red')\n",
    "    plt.plot(new_data['New Dates'], new_data['New Cases'], color = 'orange')\n",
    "\n",
    "    "
   ]
  },
  {
   "cell_type": "code",
   "execution_count": 83,
   "metadata": {},
   "outputs": [
    {
     "name": "stdout",
     "output_type": "stream",
     "text": [
      "the lag value is: 11\n"
     ]
    },
    {
     "name": "stderr",
     "output_type": "stream",
     "text": [
      "/Users/anyaaggarwal/anaconda3/lib/python3.6/site-packages/statsmodels/tsa/base/tsa_model.py:171: ValueWarning: No frequency information was provided, so inferred frequency D will be used.\n",
      "  % freq, ValueWarning)\n"
     ]
    },
    {
     "data": {
      "image/png": "[encoded data removed]",
      "text/plain": [
       "<Figure size 432x288 with 1 Axes>"
      ]
     },
     "metadata": {},
     "output_type": "display_data"
    }
   ],
   "source": [
    "orig_pred(date_case_2, new_case_df)"
   ]
  },
  {
   "cell_type": "code",
   "execution_count": null,
   "metadata": {},
   "outputs": [],
   "source": [
    "#error code that isnt valid right now for new data\n",
    "r2_err = r2_score(data.tail(len(Y) - lag), predict)\n",
    "    print('R^2 error: %s' % r2_err)\n",
    "    \n",
    "    #mean absolute error - measuring prediction errors because prediction in same unit as original (avg forecast error)\n",
    "    from sklearn.metrics import mean_absolute_error\n",
    "    mae = mean_absolute_error(data.tail(len(Y) - lag), predict)\n",
    "    print('Mean Absolute Error: %s' % mae)\n",
    "    \n",
    "    #root mean squared error - sqrt average of square of forecase error (mse): basically same as mse but when dealing\n",
    "    #with prediction in same unit as original - how concentrated is data around line of best fit\n",
    "    from sklearn.metrics import mean_squared_error\n",
    "    mse = mean_squared_error(predict, data.tail(len(Y) - lag))\n",
    "    print('Mean squared error: %s' % mse)\n",
    "    \n",
    "    rmse = np.sqrt(mse)\n",
    "    print('Root mean squared error: %s' % rmse)"
   ]
  },
  {
   "cell_type": "code",
   "execution_count": 30,
   "metadata": {
    "scrolled": true
   },
   "outputs": [
    {
     "data": {
      "text/plain": [
       "<matplotlib.axes._subplots.AxesSubplot at 0x1117aee80>"
      ]
     },
     "execution_count": 30,
     "metadata": {},
     "output_type": "execute_result"
    },
    {
     "data": {
      "image/png": "[encoded data removed]",
      "text/plain": [
       "<Figure size 432x288 with 1 Axes>"
      ]
     },
     "metadata": {},
     "output_type": "display_data"
    }
   ],
   "source": [
    "##differencing \n",
    "date_case_2['CasesDiff'] = date_case_2['Cases'] = date_case_2['Cases'].shift(1)\n",
    "date_case_2['CasesDiff'].dropna().plot()"
   ]
  }
 ],
 "metadata": {
  "kernelspec": {
   "display_name": "Python 3",
   "language": "python",
   "name": "python3"
  },
  "language_info": {
   "codemirror_mode": {
    "name": "ipython",
    "version": 3
   },
   "file_extension": ".py",
   "mimetype": "text/x-python",
   "name": "python",
   "nbconvert_exporter": "python",
   "pygments_lexer": "ipython3",
   "version": "3.6.5"
  }
 },
 "nbformat": 4,
 "nbformat_minor": 2
}
