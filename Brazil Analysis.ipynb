{
 "cells": [
  {
   "cell_type": "code",
   "execution_count": 240,
   "metadata": {},
   "outputs": [],
   "source": [
    "## imports\n",
    "import pandas as pd\n",
    "from matplotlib import pyplot as plt\n",
    "%matplotlib inline\n",
    "import statsmodels.tsa.ar_model\n",
    "from sklearn.metrics import mean_squared_error\n",
    "import numpy as np\n",
    "from math import sqrt"
   ]
  },
  {
   "cell_type": "code",
   "execution_count": 241,
   "metadata": {
    "pycharm": {
     "name": "#%%\n"
    }
   },
   "outputs": [
    {
     "data": {
      "text/html": [
       "<div>\n",
       "<style scoped>\n",
       "    .dataframe tbody tr th:only-of-type {\n",
       "        vertical-align: middle;\n",
       "    }\n",
       "\n",
       "    .dataframe tbody tr th {\n",
       "        vertical-align: top;\n",
       "    }\n",
       "\n",
       "    .dataframe thead th {\n",
       "        text-align: right;\n",
       "    }\n",
       "</style>\n",
       "<table border=\"1\" class=\"dataframe\">\n",
       "  <thead>\n",
       "    <tr style=\"text-align: right;\">\n",
       "      <th></th>\n",
       "      <th>date</th>\n",
       "      <th>region</th>\n",
       "      <th>state</th>\n",
       "      <th>cases</th>\n",
       "      <th>newCases</th>\n",
       "      <th>deaths</th>\n",
       "    </tr>\n",
       "  </thead>\n",
       "  <tbody>\n",
       "    <tr>\n",
       "      <th>0</th>\n",
       "      <td>3/7/20</td>\n",
       "      <td>Centro-Oeste</td>\n",
       "      <td>Distrito Federal</td>\n",
       "      <td>1</td>\n",
       "      <td>1</td>\n",
       "      <td>0</td>\n",
       "    </tr>\n",
       "    <tr>\n",
       "      <th>1</th>\n",
       "      <td>3/8/20</td>\n",
       "      <td>Centro-Oeste</td>\n",
       "      <td>Distrito Federal</td>\n",
       "      <td>1</td>\n",
       "      <td>0</td>\n",
       "      <td>0</td>\n",
       "    </tr>\n",
       "    <tr>\n",
       "      <th>2</th>\n",
       "      <td>3/9/20</td>\n",
       "      <td>Centro-Oeste</td>\n",
       "      <td>Distrito Federal</td>\n",
       "      <td>1</td>\n",
       "      <td>0</td>\n",
       "      <td>0</td>\n",
       "    </tr>\n",
       "    <tr>\n",
       "      <th>3</th>\n",
       "      <td>3/10/20</td>\n",
       "      <td>Centro-Oeste</td>\n",
       "      <td>Distrito Federal</td>\n",
       "      <td>1</td>\n",
       "      <td>0</td>\n",
       "      <td>0</td>\n",
       "    </tr>\n",
       "    <tr>\n",
       "      <th>4</th>\n",
       "      <td>3/11/20</td>\n",
       "      <td>Centro-Oeste</td>\n",
       "      <td>Distrito Federal</td>\n",
       "      <td>2</td>\n",
       "      <td>1</td>\n",
       "      <td>0</td>\n",
       "    </tr>\n",
       "  </tbody>\n",
       "</table>\n",
       "</div>"
      ],
      "text/plain": [
       "      date        region             state  cases  newCases  deaths\n",
       "0   3/7/20  Centro-Oeste  Distrito Federal      1         1       0\n",
       "1   3/8/20  Centro-Oeste  Distrito Federal      1         0       0\n",
       "2   3/9/20  Centro-Oeste  Distrito Federal      1         0       0\n",
       "3  3/10/20  Centro-Oeste  Distrito Federal      1         0       0\n",
       "4  3/11/20  Centro-Oeste  Distrito Federal      2         1       0"
      ]
     },
     "execution_count": 241,
     "metadata": {},
     "output_type": "execute_result"
    }
   ],
   "source": [
    "## loading and reading in csv dataset using pandas\n",
    "brazil_df = pd.read_csv('brazil_covid19_revised.csv')\n",
    "brazil_df.head()"
   ]
  },
  {
   "cell_type": "code",
   "execution_count": 242,
   "metadata": {
    "scrolled": true
   },
   "outputs": [
    {
     "data": {
      "text/plain": [
       "202918"
      ]
     },
     "execution_count": 242,
     "metadata": {},
     "output_type": "execute_result"
    }
   ],
   "source": [
    "brazil_df[brazil_df['date'] == '5/14/20']['cases'].sum()"
   ]
  },
  {
   "cell_type": "code",
   "execution_count": 253,
   "metadata": {},
   "outputs": [
    {
     "data": {
      "text/html": [
       "<div>\n",
       "<style scoped>\n",
       "    .dataframe tbody tr th:only-of-type {\n",
       "        vertical-align: middle;\n",
       "    }\n",
       "\n",
       "    .dataframe tbody tr th {\n",
       "        vertical-align: top;\n",
       "    }\n",
       "\n",
       "    .dataframe thead th {\n",
       "        text-align: right;\n",
       "    }\n",
       "</style>\n",
       "<table border=\"1\" class=\"dataframe\">\n",
       "  <thead>\n",
       "    <tr style=\"text-align: right;\">\n",
       "      <th></th>\n",
       "      <th>date</th>\n",
       "      <th>region</th>\n",
       "      <th>state</th>\n",
       "      <th>cases</th>\n",
       "      <th>newCases</th>\n",
       "      <th>deaths</th>\n",
       "    </tr>\n",
       "  </thead>\n",
       "  <tbody>\n",
       "    <tr>\n",
       "      <th>0</th>\n",
       "      <td>2020-03-07</td>\n",
       "      <td>Centro-Oeste</td>\n",
       "      <td>Distrito Federal</td>\n",
       "      <td>1</td>\n",
       "      <td>1</td>\n",
       "      <td>0</td>\n",
       "    </tr>\n",
       "    <tr>\n",
       "      <th>1</th>\n",
       "      <td>2020-03-08</td>\n",
       "      <td>Centro-Oeste</td>\n",
       "      <td>Distrito Federal</td>\n",
       "      <td>1</td>\n",
       "      <td>0</td>\n",
       "      <td>0</td>\n",
       "    </tr>\n",
       "    <tr>\n",
       "      <th>2</th>\n",
       "      <td>2020-03-09</td>\n",
       "      <td>Centro-Oeste</td>\n",
       "      <td>Distrito Federal</td>\n",
       "      <td>1</td>\n",
       "      <td>0</td>\n",
       "      <td>0</td>\n",
       "    </tr>\n",
       "    <tr>\n",
       "      <th>3</th>\n",
       "      <td>2020-03-10</td>\n",
       "      <td>Centro-Oeste</td>\n",
       "      <td>Distrito Federal</td>\n",
       "      <td>1</td>\n",
       "      <td>0</td>\n",
       "      <td>0</td>\n",
       "    </tr>\n",
       "    <tr>\n",
       "      <th>4</th>\n",
       "      <td>2020-03-11</td>\n",
       "      <td>Centro-Oeste</td>\n",
       "      <td>Distrito Federal</td>\n",
       "      <td>2</td>\n",
       "      <td>1</td>\n",
       "      <td>0</td>\n",
       "    </tr>\n",
       "    <tr>\n",
       "      <th>5</th>\n",
       "      <td>2020-03-12</td>\n",
       "      <td>Centro-Oeste</td>\n",
       "      <td>Distrito Federal</td>\n",
       "      <td>2</td>\n",
       "      <td>0</td>\n",
       "      <td>0</td>\n",
       "    </tr>\n",
       "    <tr>\n",
       "      <th>6</th>\n",
       "      <td>2020-03-13</td>\n",
       "      <td>Centro-Oeste</td>\n",
       "      <td>Distrito Federal</td>\n",
       "      <td>2</td>\n",
       "      <td>0</td>\n",
       "      <td>0</td>\n",
       "    </tr>\n",
       "    <tr>\n",
       "      <th>7</th>\n",
       "      <td>2020-03-14</td>\n",
       "      <td>Centro-Oeste</td>\n",
       "      <td>Distrito Federal</td>\n",
       "      <td>6</td>\n",
       "      <td>4</td>\n",
       "      <td>0</td>\n",
       "    </tr>\n",
       "    <tr>\n",
       "      <th>8</th>\n",
       "      <td>2020-03-15</td>\n",
       "      <td>Centro-Oeste</td>\n",
       "      <td>Distrito Federal</td>\n",
       "      <td>8</td>\n",
       "      <td>2</td>\n",
       "      <td>0</td>\n",
       "    </tr>\n",
       "    <tr>\n",
       "      <th>9</th>\n",
       "      <td>2020-03-16</td>\n",
       "      <td>Centro-Oeste</td>\n",
       "      <td>Distrito Federal</td>\n",
       "      <td>13</td>\n",
       "      <td>5</td>\n",
       "      <td>0</td>\n",
       "    </tr>\n",
       "    <tr>\n",
       "      <th>10</th>\n",
       "      <td>2020-03-17</td>\n",
       "      <td>Centro-Oeste</td>\n",
       "      <td>Distrito Federal</td>\n",
       "      <td>22</td>\n",
       "      <td>9</td>\n",
       "      <td>0</td>\n",
       "    </tr>\n",
       "    <tr>\n",
       "      <th>11</th>\n",
       "      <td>2020-03-18</td>\n",
       "      <td>Centro-Oeste</td>\n",
       "      <td>Distrito Federal</td>\n",
       "      <td>26</td>\n",
       "      <td>4</td>\n",
       "      <td>0</td>\n",
       "    </tr>\n",
       "    <tr>\n",
       "      <th>12</th>\n",
       "      <td>2020-03-19</td>\n",
       "      <td>Centro-Oeste</td>\n",
       "      <td>Distrito Federal</td>\n",
       "      <td>42</td>\n",
       "      <td>16</td>\n",
       "      <td>0</td>\n",
       "    </tr>\n",
       "    <tr>\n",
       "      <th>13</th>\n",
       "      <td>2020-03-20</td>\n",
       "      <td>Centro-Oeste</td>\n",
       "      <td>Distrito Federal</td>\n",
       "      <td>87</td>\n",
       "      <td>45</td>\n",
       "      <td>0</td>\n",
       "    </tr>\n",
       "    <tr>\n",
       "      <th>14</th>\n",
       "      <td>2020-03-21</td>\n",
       "      <td>Centro-Oeste</td>\n",
       "      <td>Distrito Federal</td>\n",
       "      <td>100</td>\n",
       "      <td>13</td>\n",
       "      <td>0</td>\n",
       "    </tr>\n",
       "    <tr>\n",
       "      <th>15</th>\n",
       "      <td>2020-03-22</td>\n",
       "      <td>Centro-Oeste</td>\n",
       "      <td>Distrito Federal</td>\n",
       "      <td>117</td>\n",
       "      <td>17</td>\n",
       "      <td>0</td>\n",
       "    </tr>\n",
       "    <tr>\n",
       "      <th>16</th>\n",
       "      <td>2020-03-23</td>\n",
       "      <td>Centro-Oeste</td>\n",
       "      <td>Distrito Federal</td>\n",
       "      <td>133</td>\n",
       "      <td>16</td>\n",
       "      <td>0</td>\n",
       "    </tr>\n",
       "    <tr>\n",
       "      <th>17</th>\n",
       "      <td>2020-03-24</td>\n",
       "      <td>Centro-Oeste</td>\n",
       "      <td>Distrito Federal</td>\n",
       "      <td>160</td>\n",
       "      <td>27</td>\n",
       "      <td>0</td>\n",
       "    </tr>\n",
       "    <tr>\n",
       "      <th>18</th>\n",
       "      <td>2020-03-25</td>\n",
       "      <td>Centro-Oeste</td>\n",
       "      <td>Distrito Federal</td>\n",
       "      <td>160</td>\n",
       "      <td>0</td>\n",
       "      <td>0</td>\n",
       "    </tr>\n",
       "    <tr>\n",
       "      <th>19</th>\n",
       "      <td>2020-03-26</td>\n",
       "      <td>Centro-Oeste</td>\n",
       "      <td>Distrito Federal</td>\n",
       "      <td>200</td>\n",
       "      <td>40</td>\n",
       "      <td>0</td>\n",
       "    </tr>\n",
       "    <tr>\n",
       "      <th>20</th>\n",
       "      <td>2020-03-27</td>\n",
       "      <td>Centro-Oeste</td>\n",
       "      <td>Distrito Federal</td>\n",
       "      <td>230</td>\n",
       "      <td>30</td>\n",
       "      <td>0</td>\n",
       "    </tr>\n",
       "    <tr>\n",
       "      <th>21</th>\n",
       "      <td>2020-03-28</td>\n",
       "      <td>Centro-Oeste</td>\n",
       "      <td>Distrito Federal</td>\n",
       "      <td>260</td>\n",
       "      <td>30</td>\n",
       "      <td>0</td>\n",
       "    </tr>\n",
       "    <tr>\n",
       "      <th>22</th>\n",
       "      <td>2020-03-29</td>\n",
       "      <td>Centro-Oeste</td>\n",
       "      <td>Distrito Federal</td>\n",
       "      <td>289</td>\n",
       "      <td>29</td>\n",
       "      <td>1</td>\n",
       "    </tr>\n",
       "    <tr>\n",
       "      <th>23</th>\n",
       "      <td>2020-03-30</td>\n",
       "      <td>Centro-Oeste</td>\n",
       "      <td>Distrito Federal</td>\n",
       "      <td>312</td>\n",
       "      <td>23</td>\n",
       "      <td>1</td>\n",
       "    </tr>\n",
       "    <tr>\n",
       "      <th>24</th>\n",
       "      <td>2020-03-31</td>\n",
       "      <td>Centro-Oeste</td>\n",
       "      <td>Distrito Federal</td>\n",
       "      <td>332</td>\n",
       "      <td>20</td>\n",
       "      <td>3</td>\n",
       "    </tr>\n",
       "    <tr>\n",
       "      <th>25</th>\n",
       "      <td>2020-04-01</td>\n",
       "      <td>Centro-Oeste</td>\n",
       "      <td>Distrito Federal</td>\n",
       "      <td>355</td>\n",
       "      <td>23</td>\n",
       "      <td>3</td>\n",
       "    </tr>\n",
       "    <tr>\n",
       "      <th>26</th>\n",
       "      <td>2020-04-02</td>\n",
       "      <td>Centro-Oeste</td>\n",
       "      <td>Distrito Federal</td>\n",
       "      <td>370</td>\n",
       "      <td>15</td>\n",
       "      <td>4</td>\n",
       "    </tr>\n",
       "    <tr>\n",
       "      <th>27</th>\n",
       "      <td>2020-04-03</td>\n",
       "      <td>Centro-Oeste</td>\n",
       "      <td>Distrito Federal</td>\n",
       "      <td>402</td>\n",
       "      <td>32</td>\n",
       "      <td>5</td>\n",
       "    </tr>\n",
       "    <tr>\n",
       "      <th>28</th>\n",
       "      <td>2020-04-04</td>\n",
       "      <td>Centro-Oeste</td>\n",
       "      <td>Distrito Federal</td>\n",
       "      <td>454</td>\n",
       "      <td>52</td>\n",
       "      <td>7</td>\n",
       "    </tr>\n",
       "    <tr>\n",
       "      <th>29</th>\n",
       "      <td>2020-04-05</td>\n",
       "      <td>Centro-Oeste</td>\n",
       "      <td>Distrito Federal</td>\n",
       "      <td>468</td>\n",
       "      <td>14</td>\n",
       "      <td>7</td>\n",
       "    </tr>\n",
       "    <tr>\n",
       "      <th>...</th>\n",
       "      <td>...</td>\n",
       "      <td>...</td>\n",
       "      <td>...</td>\n",
       "      <td>...</td>\n",
       "      <td>...</td>\n",
       "      <td>...</td>\n",
       "    </tr>\n",
       "    <tr>\n",
       "      <th>1650</th>\n",
       "      <td>2020-04-15</td>\n",
       "      <td>Sul</td>\n",
       "      <td>Santa Catarina</td>\n",
       "      <td>853</td>\n",
       "      <td>27</td>\n",
       "      <td>28</td>\n",
       "    </tr>\n",
       "    <tr>\n",
       "      <th>1651</th>\n",
       "      <td>2020-04-16</td>\n",
       "      <td>Sul</td>\n",
       "      <td>Santa Catarina</td>\n",
       "      <td>884</td>\n",
       "      <td>31</td>\n",
       "      <td>29</td>\n",
       "    </tr>\n",
       "    <tr>\n",
       "      <th>1652</th>\n",
       "      <td>2020-04-17</td>\n",
       "      <td>Sul</td>\n",
       "      <td>Santa Catarina</td>\n",
       "      <td>926</td>\n",
       "      <td>42</td>\n",
       "      <td>30</td>\n",
       "    </tr>\n",
       "    <tr>\n",
       "      <th>1653</th>\n",
       "      <td>2020-04-18</td>\n",
       "      <td>Sul</td>\n",
       "      <td>Santa Catarina</td>\n",
       "      <td>962</td>\n",
       "      <td>36</td>\n",
       "      <td>31</td>\n",
       "    </tr>\n",
       "    <tr>\n",
       "      <th>1654</th>\n",
       "      <td>2020-04-19</td>\n",
       "      <td>Sul</td>\n",
       "      <td>Santa Catarina</td>\n",
       "      <td>975</td>\n",
       "      <td>13</td>\n",
       "      <td>32</td>\n",
       "    </tr>\n",
       "    <tr>\n",
       "      <th>1655</th>\n",
       "      <td>2020-04-20</td>\n",
       "      <td>Sul</td>\n",
       "      <td>Santa Catarina</td>\n",
       "      <td>1025</td>\n",
       "      <td>50</td>\n",
       "      <td>35</td>\n",
       "    </tr>\n",
       "    <tr>\n",
       "      <th>1656</th>\n",
       "      <td>2020-04-21</td>\n",
       "      <td>Sul</td>\n",
       "      <td>Santa Catarina</td>\n",
       "      <td>1063</td>\n",
       "      <td>38</td>\n",
       "      <td>35</td>\n",
       "    </tr>\n",
       "    <tr>\n",
       "      <th>1657</th>\n",
       "      <td>2020-04-22</td>\n",
       "      <td>Sul</td>\n",
       "      <td>Santa Catarina</td>\n",
       "      <td>1091</td>\n",
       "      <td>28</td>\n",
       "      <td>37</td>\n",
       "    </tr>\n",
       "    <tr>\n",
       "      <th>1658</th>\n",
       "      <td>2020-04-23</td>\n",
       "      <td>Sul</td>\n",
       "      <td>Santa Catarina</td>\n",
       "      <td>1115</td>\n",
       "      <td>24</td>\n",
       "      <td>39</td>\n",
       "    </tr>\n",
       "    <tr>\n",
       "      <th>1659</th>\n",
       "      <td>2020-04-24</td>\n",
       "      <td>Sul</td>\n",
       "      <td>Santa Catarina</td>\n",
       "      <td>1170</td>\n",
       "      <td>55</td>\n",
       "      <td>42</td>\n",
       "    </tr>\n",
       "    <tr>\n",
       "      <th>1660</th>\n",
       "      <td>2020-04-25</td>\n",
       "      <td>Sul</td>\n",
       "      <td>Santa Catarina</td>\n",
       "      <td>1209</td>\n",
       "      <td>39</td>\n",
       "      <td>42</td>\n",
       "    </tr>\n",
       "    <tr>\n",
       "      <th>1661</th>\n",
       "      <td>2020-04-26</td>\n",
       "      <td>Sul</td>\n",
       "      <td>Santa Catarina</td>\n",
       "      <td>1235</td>\n",
       "      <td>26</td>\n",
       "      <td>42</td>\n",
       "    </tr>\n",
       "    <tr>\n",
       "      <th>1662</th>\n",
       "      <td>2020-04-27</td>\n",
       "      <td>Sul</td>\n",
       "      <td>Santa Catarina</td>\n",
       "      <td>1337</td>\n",
       "      <td>102</td>\n",
       "      <td>43</td>\n",
       "    </tr>\n",
       "    <tr>\n",
       "      <th>1663</th>\n",
       "      <td>2020-04-28</td>\n",
       "      <td>Sul</td>\n",
       "      <td>Santa Catarina</td>\n",
       "      <td>1476</td>\n",
       "      <td>139</td>\n",
       "      <td>44</td>\n",
       "    </tr>\n",
       "    <tr>\n",
       "      <th>1664</th>\n",
       "      <td>2020-04-29</td>\n",
       "      <td>Sul</td>\n",
       "      <td>Santa Catarina</td>\n",
       "      <td>1995</td>\n",
       "      <td>519</td>\n",
       "      <td>44</td>\n",
       "    </tr>\n",
       "    <tr>\n",
       "      <th>1665</th>\n",
       "      <td>2020-04-30</td>\n",
       "      <td>Sul</td>\n",
       "      <td>Santa Catarina</td>\n",
       "      <td>2085</td>\n",
       "      <td>90</td>\n",
       "      <td>46</td>\n",
       "    </tr>\n",
       "    <tr>\n",
       "      <th>1666</th>\n",
       "      <td>2020-05-01</td>\n",
       "      <td>Sul</td>\n",
       "      <td>Santa Catarina</td>\n",
       "      <td>2104</td>\n",
       "      <td>19</td>\n",
       "      <td>48</td>\n",
       "    </tr>\n",
       "    <tr>\n",
       "      <th>1667</th>\n",
       "      <td>2020-05-02</td>\n",
       "      <td>Sul</td>\n",
       "      <td>Santa Catarina</td>\n",
       "      <td>2346</td>\n",
       "      <td>242</td>\n",
       "      <td>52</td>\n",
       "    </tr>\n",
       "    <tr>\n",
       "      <th>1668</th>\n",
       "      <td>2020-05-03</td>\n",
       "      <td>Sul</td>\n",
       "      <td>Santa Catarina</td>\n",
       "      <td>2346</td>\n",
       "      <td>0</td>\n",
       "      <td>52</td>\n",
       "    </tr>\n",
       "    <tr>\n",
       "      <th>1669</th>\n",
       "      <td>2020-05-04</td>\n",
       "      <td>Sul</td>\n",
       "      <td>Santa Catarina</td>\n",
       "      <td>2519</td>\n",
       "      <td>173</td>\n",
       "      <td>52</td>\n",
       "    </tr>\n",
       "    <tr>\n",
       "      <th>1670</th>\n",
       "      <td>2020-05-05</td>\n",
       "      <td>Sul</td>\n",
       "      <td>Santa Catarina</td>\n",
       "      <td>2623</td>\n",
       "      <td>104</td>\n",
       "      <td>55</td>\n",
       "    </tr>\n",
       "    <tr>\n",
       "      <th>1671</th>\n",
       "      <td>2020-05-06</td>\n",
       "      <td>Sul</td>\n",
       "      <td>Santa Catarina</td>\n",
       "      <td>2917</td>\n",
       "      <td>294</td>\n",
       "      <td>59</td>\n",
       "    </tr>\n",
       "    <tr>\n",
       "      <th>1672</th>\n",
       "      <td>2020-05-07</td>\n",
       "      <td>Sul</td>\n",
       "      <td>Santa Catarina</td>\n",
       "      <td>3082</td>\n",
       "      <td>165</td>\n",
       "      <td>63</td>\n",
       "    </tr>\n",
       "    <tr>\n",
       "      <th>1673</th>\n",
       "      <td>2020-05-08</td>\n",
       "      <td>Sul</td>\n",
       "      <td>Santa Catarina</td>\n",
       "      <td>3205</td>\n",
       "      <td>123</td>\n",
       "      <td>63</td>\n",
       "    </tr>\n",
       "    <tr>\n",
       "      <th>1674</th>\n",
       "      <td>2020-05-09</td>\n",
       "      <td>Sul</td>\n",
       "      <td>Santa Catarina</td>\n",
       "      <td>3372</td>\n",
       "      <td>167</td>\n",
       "      <td>64</td>\n",
       "    </tr>\n",
       "    <tr>\n",
       "      <th>1675</th>\n",
       "      <td>2020-05-10</td>\n",
       "      <td>Sul</td>\n",
       "      <td>Santa Catarina</td>\n",
       "      <td>3429</td>\n",
       "      <td>57</td>\n",
       "      <td>65</td>\n",
       "    </tr>\n",
       "    <tr>\n",
       "      <th>1676</th>\n",
       "      <td>2020-05-11</td>\n",
       "      <td>Sul</td>\n",
       "      <td>Santa Catarina</td>\n",
       "      <td>3529</td>\n",
       "      <td>100</td>\n",
       "      <td>69</td>\n",
       "    </tr>\n",
       "    <tr>\n",
       "      <th>1677</th>\n",
       "      <td>2020-05-12</td>\n",
       "      <td>Sul</td>\n",
       "      <td>Santa Catarina</td>\n",
       "      <td>3733</td>\n",
       "      <td>204</td>\n",
       "      <td>73</td>\n",
       "    </tr>\n",
       "    <tr>\n",
       "      <th>1678</th>\n",
       "      <td>2020-05-13</td>\n",
       "      <td>Sul</td>\n",
       "      <td>Santa Catarina</td>\n",
       "      <td>3828</td>\n",
       "      <td>95</td>\n",
       "      <td>73</td>\n",
       "    </tr>\n",
       "    <tr>\n",
       "      <th>1679</th>\n",
       "      <td>2020-05-14</td>\n",
       "      <td>Sul</td>\n",
       "      <td>Santa Catarina</td>\n",
       "      <td>4332</td>\n",
       "      <td>504</td>\n",
       "      <td>78</td>\n",
       "    </tr>\n",
       "  </tbody>\n",
       "</table>\n",
       "<p>1680 rows × 6 columns</p>\n",
       "</div>"
      ],
      "text/plain": [
       "           date        region             state  cases  newCases  deaths\n",
       "0    2020-03-07  Centro-Oeste  Distrito Federal      1         1       0\n",
       "1    2020-03-08  Centro-Oeste  Distrito Federal      1         0       0\n",
       "2    2020-03-09  Centro-Oeste  Distrito Federal      1         0       0\n",
       "3    2020-03-10  Centro-Oeste  Distrito Federal      1         0       0\n",
       "4    2020-03-11  Centro-Oeste  Distrito Federal      2         1       0\n",
       "5    2020-03-12  Centro-Oeste  Distrito Federal      2         0       0\n",
       "6    2020-03-13  Centro-Oeste  Distrito Federal      2         0       0\n",
       "7    2020-03-14  Centro-Oeste  Distrito Federal      6         4       0\n",
       "8    2020-03-15  Centro-Oeste  Distrito Federal      8         2       0\n",
       "9    2020-03-16  Centro-Oeste  Distrito Federal     13         5       0\n",
       "10   2020-03-17  Centro-Oeste  Distrito Federal     22         9       0\n",
       "11   2020-03-18  Centro-Oeste  Distrito Federal     26         4       0\n",
       "12   2020-03-19  Centro-Oeste  Distrito Federal     42        16       0\n",
       "13   2020-03-20  Centro-Oeste  Distrito Federal     87        45       0\n",
       "14   2020-03-21  Centro-Oeste  Distrito Federal    100        13       0\n",
       "15   2020-03-22  Centro-Oeste  Distrito Federal    117        17       0\n",
       "16   2020-03-23  Centro-Oeste  Distrito Federal    133        16       0\n",
       "17   2020-03-24  Centro-Oeste  Distrito Federal    160        27       0\n",
       "18   2020-03-25  Centro-Oeste  Distrito Federal    160         0       0\n",
       "19   2020-03-26  Centro-Oeste  Distrito Federal    200        40       0\n",
       "20   2020-03-27  Centro-Oeste  Distrito Federal    230        30       0\n",
       "21   2020-03-28  Centro-Oeste  Distrito Federal    260        30       0\n",
       "22   2020-03-29  Centro-Oeste  Distrito Federal    289        29       1\n",
       "23   2020-03-30  Centro-Oeste  Distrito Federal    312        23       1\n",
       "24   2020-03-31  Centro-Oeste  Distrito Federal    332        20       3\n",
       "25   2020-04-01  Centro-Oeste  Distrito Federal    355        23       3\n",
       "26   2020-04-02  Centro-Oeste  Distrito Federal    370        15       4\n",
       "27   2020-04-03  Centro-Oeste  Distrito Federal    402        32       5\n",
       "28   2020-04-04  Centro-Oeste  Distrito Federal    454        52       7\n",
       "29   2020-04-05  Centro-Oeste  Distrito Federal    468        14       7\n",
       "...         ...           ...               ...    ...       ...     ...\n",
       "1650 2020-04-15           Sul    Santa Catarina    853        27      28\n",
       "1651 2020-04-16           Sul    Santa Catarina    884        31      29\n",
       "1652 2020-04-17           Sul    Santa Catarina    926        42      30\n",
       "1653 2020-04-18           Sul    Santa Catarina    962        36      31\n",
       "1654 2020-04-19           Sul    Santa Catarina    975        13      32\n",
       "1655 2020-04-20           Sul    Santa Catarina   1025        50      35\n",
       "1656 2020-04-21           Sul    Santa Catarina   1063        38      35\n",
       "1657 2020-04-22           Sul    Santa Catarina   1091        28      37\n",
       "1658 2020-04-23           Sul    Santa Catarina   1115        24      39\n",
       "1659 2020-04-24           Sul    Santa Catarina   1170        55      42\n",
       "1660 2020-04-25           Sul    Santa Catarina   1209        39      42\n",
       "1661 2020-04-26           Sul    Santa Catarina   1235        26      42\n",
       "1662 2020-04-27           Sul    Santa Catarina   1337       102      43\n",
       "1663 2020-04-28           Sul    Santa Catarina   1476       139      44\n",
       "1664 2020-04-29           Sul    Santa Catarina   1995       519      44\n",
       "1665 2020-04-30           Sul    Santa Catarina   2085        90      46\n",
       "1666 2020-05-01           Sul    Santa Catarina   2104        19      48\n",
       "1667 2020-05-02           Sul    Santa Catarina   2346       242      52\n",
       "1668 2020-05-03           Sul    Santa Catarina   2346         0      52\n",
       "1669 2020-05-04           Sul    Santa Catarina   2519       173      52\n",
       "1670 2020-05-05           Sul    Santa Catarina   2623       104      55\n",
       "1671 2020-05-06           Sul    Santa Catarina   2917       294      59\n",
       "1672 2020-05-07           Sul    Santa Catarina   3082       165      63\n",
       "1673 2020-05-08           Sul    Santa Catarina   3205       123      63\n",
       "1674 2020-05-09           Sul    Santa Catarina   3372       167      64\n",
       "1675 2020-05-10           Sul    Santa Catarina   3429        57      65\n",
       "1676 2020-05-11           Sul    Santa Catarina   3529       100      69\n",
       "1677 2020-05-12           Sul    Santa Catarina   3733       204      73\n",
       "1678 2020-05-13           Sul    Santa Catarina   3828        95      73\n",
       "1679 2020-05-14           Sul    Santa Catarina   4332       504      78\n",
       "\n",
       "[1680 rows x 6 columns]"
      ]
     },
     "execution_count": 253,
     "metadata": {},
     "output_type": "execute_result"
    }
   ],
   "source": [
    "brazil_df['date'] = pd.to_datetime(brazil_df['date'])\n",
    "brazil_df"
   ]
  },
  {
   "cell_type": "code",
   "execution_count": 254,
   "metadata": {},
   "outputs": [],
   "source": [
    "brazil_df_sort = brazil_df.sort_values(by = 'date')"
   ]
  },
  {
   "cell_type": "code",
   "execution_count": 255,
   "metadata": {},
   "outputs": [],
   "source": [
    "date_cases = {}\n",
    "date_cases_keys = brazil_df_sort['date']\n",
    "final_keys = []\n",
    "for date in date_cases_keys:\n",
    "    if date not in final_keys:\n",
    "        final_keys.append(date)\n",
    "date_cases_values = []\n",
    "\n",
    "test_d = '2/24/20'\n",
    "\n",
    "for d in date_cases_keys:\n",
    "    if d != test_d:\n",
    "        value = brazil_df_sort[brazil_df_sort['date'] == d]['cases'].sum()\n",
    "        date_cases_values.append(value)\n",
    "        test_d = d\n"
   ]
  },
  {
   "cell_type": "code",
   "execution_count": 258,
   "metadata": {},
   "outputs": [],
   "source": [
    "date_cases = {final_keys[i]: date_cases_values[i] for i in range(len(final_keys))} \n",
    "date_case = pd.DataFrame.from_dict(date_cases, orient= 'index', columns = ['Cases'])"
   ]
  },
  {
   "cell_type": "code",
   "execution_count": 259,
   "metadata": {},
   "outputs": [],
   "source": [
    "brazil_df_sort['date'] = pd.to_datetime(brazil_df_sort['date'])"
   ]
  },
  {
   "cell_type": "code",
   "execution_count": 262,
   "metadata": {},
   "outputs": [],
   "source": [
    "dates_list = []\n",
    "for date in brazil_df_sort['date']:\n",
    "    if date not in dates_list:\n",
    "        dates_list.append(date)\n",
    "date_cases_2 = {dates_list[i]: date_cases_values[i] for i in range(len(dates_list))} \n",
    "date_case_2 = pd.DataFrame.from_dict(date_cases_2, orient= 'index', columns = ['Cases'])"
   ]
  },
  {
   "cell_type": "code",
   "execution_count": 263,
   "metadata": {
    "scrolled": true
   },
   "outputs": [
    {
     "data": {
      "image/png": "[encoded data removed]",
      "text/plain": [
       "<Figure size 432x288 with 1 Axes>"
      ]
     },
     "metadata": {},
     "output_type": "display_data"
    }
   ],
   "source": [
    "date_case_2['Cases'].plot()\n",
    "plt.show()"
   ]
  },
  {
   "cell_type": "code",
   "execution_count": 265,
   "metadata": {},
   "outputs": [],
   "source": [
    "## Determining rolling statistics - stationarety\n",
    "rolmean = date_case_2.rolling(window= 12).mean()\n",
    "rolstd = date_case_2.rolling(window=12).std()"
   ]
  },
  {
   "cell_type": "code",
   "execution_count": 266,
   "metadata": {},
   "outputs": [
    {
     "data": {
      "image/png": "[encoded data removed]",
      "text/plain": [
       "<Figure size 432x288 with 1 Axes>"
      ]
     },
     "metadata": {},
     "output_type": "display_data"
    }
   ],
   "source": [
    "## plot rolling statistics\n",
    "orig = plt.plot(date_case_2, color = 'blue', label= \"Original\")\n",
    "mean = plt.plot(rolmean, color = 'red', label = 'Rolling Mean')\n",
    "std = plt.plot(rolstd, color = 'black', label = \"Rolling Std\")\n",
    "plt.legend(loc = 'best')\n",
    "plt.show(block = False)\n",
    "## mean and std not constant - so not stationary"
   ]
  },
  {
   "cell_type": "code",
   "execution_count": 416,
   "metadata": {},
   "outputs": [
    {
     "name": "stdout",
     "output_type": "stream",
     "text": [
      "Results of Dickey-Fuller Test\n",
      "Test Statistic                  1.425208\n",
      "p-value                         0.997226\n",
      "#Lags Used                      7.000000\n",
      "Number of Observations Used    71.000000\n",
      "Critical Value (1%)            -3.526005\n",
      "Critical Value (5%)            -2.903200\n",
      "Critical Value (10%)           -2.588995\n",
      "dtype: float64\n"
     ]
    }
   ],
   "source": [
    "## Perform Dickey-Fuller test\n",
    "from statsmodels.tsa.stattools import adfuller\n",
    "\n",
    "print(\"Results of Dickey-Fuller Test\")\n",
    "test = adfuller(date_case_2['Cases'], autolag = \"AIC\")\n",
    "\n",
    "output = pd.Series(test[0:4], index = ['Test Statistic', 'p-value', '#Lags Used', 'Number of Observations Used'])\n",
    "for k,v in test[4].items():\n",
    "    output['Critical Value (%s)'%k] = v\n",
    "    \n",
    "print(output)\n",
    "\n",
    "##cannot reject null hypothesis - not stationary"
   ]
  },
  {
   "cell_type": "code",
   "execution_count": 462,
   "metadata": {},
   "outputs": [],
   "source": [
    "def est_trend(data, n):\n",
    "    ##Estimating Trend\n",
    "    data_est = np.log(data)\n",
    "\n",
    "    \n",
    "    ##calculating moving averages\n",
    "\n",
    "    movingAvg = data_est.rolling(window=12).mean()\n",
    "    movingStd = data_est.rolling(window = 12).std()\n",
    "    \n",
    "    #fig, axs = plt.subplots(3)\n",
    "    \n",
    "    plt.figure(1)\n",
    "    plt.plot(data_est)\n",
    "    plt.plot(movingAvg, color = 'red')\n",
    "    \n",
    "    ##diff between moving averages and actual cases\n",
    "    diff = data_est - movingAvg\n",
    "    ##remove null values\n",
    "    diff.dropna(inplace = True)\n",
    "    \n",
    "    plt.figure(2)\n",
    "    plt.plot(diff)\n",
    "    plt.plot(movingAvg, color = 'red', label = 'MovingAvg')\n",
    "    plt.plot(movingStd, color = 'black', label = 'MovingStd')\n",
    "    \n",
    "\n",
    "    ##reperform Dickey-Fuller Test on transformed data to check stationarity\n",
    "    print(\"Results of Dickey-Fuller Test\")\n",
    "    test = adfuller(data_est['Cases'], autolag = \"AIC\")\n",
    "\n",
    "    output = pd.Series(test[0:4], index = ['Test Statistic', 'p-value', '#Lags Used', 'Number of Observations Used'])\n",
    "    for k,v in test[4].items():\n",
    "        output['Critical Value (%s)'%k] = v\n",
    "    \n",
    "    print(output)\n",
    "    \n",
    "    ##calculate weighted average\n",
    "    weight_avg = data_est.ewm(halflife = 12, min_periods = 0, adjust = True).mean()\n",
    "    \n",
    "    ## prediction \n",
    "    \n",
    "   \n",
    "    from statsmodels.tsa.ar_model import AR\n",
    "    from sklearn.metrics import r2_score\n",
    "\n",
    "    ##split data into train and test\n",
    "    X = data_est.dropna()\n",
    "    train = X[1: len(X) - n]\n",
    "    test = X[len(X) - n:]\n",
    "    \n",
    "    ##fit and train model using split data\n",
    "    model = AR(train)\n",
    "    model_fitted = model.fit()\n",
    "    print('the lag value is: %s' % model_fitted.k_ar)\n",
    "    \n",
    "    predict = model_fitted.predict(start = len(train), end = len(train) + len(test) - 1, dynamic = False)\n",
    "    ##print(predict)\n",
    "\n",
    "    ##plot predicted data vs. true/observed data\n",
    "    plt.figure(3)\n",
    "    plt.title(\"Predicted vs. Observed Cases\")\n",
    "    plt.legend()\n",
    "    plt.plot(data_est.tail(n), color = 'blue')\n",
    "    plt.plot(predict, color = 'red')\n",
    "    \n",
    "    ## error analysis - try a few different methods\n",
    "    \n",
    "    #r^2 error analysis - not metric to show if model is a good future predictor, but shows if model is good fit to \n",
    "    #observed data\n",
    "    r2_err = r2_score(data_est.tail(n), predict)\n",
    "    print('R^2 error: %s' % r2_err)\n",
    "    \n",
    "    #mean absolute error - measuring prediction errors because prediction in same unit as original (avg forecast error)\n",
    "    from sklearn.metrics import mean_absolute_error\n",
    "    mae = mean_absolute_error(data_est.tail(n), predict)\n",
    "    print('Mean Absolute Error: %s' % mae)\n",
    "    \n",
    "    #root mean squared error - sqrt average of square of forecase error (mse): basically same as mse but when dealing\n",
    "    #with prediction in same unit as original - how concentrated is data around line of best fit\n",
    "    from sklearn.metrics import mean_squared_error\n",
    "    mse = mean_squared_error(predict, data_est.tail(n))\n",
    "    print('Mean squared error: %s' % mse)\n",
    "    \n",
    "    rmse = np.sqrt(mse)\n",
    "    print('Root mean squared error: %s' % rmse)"
   ]
  },
  {
   "cell_type": "code",
   "execution_count": 463,
   "metadata": {},
   "outputs": [
    {
     "name": "stderr",
     "output_type": "stream",
     "text": [
      "/Users/anyaaggarwal/anaconda3/lib/python3.6/site-packages/statsmodels/tsa/base/tsa_model.py:171: ValueWarning: No frequency information was provided, so inferred frequency D will be used.\n",
      "  % freq, ValueWarning)\n",
      "No handles with labels found to put in legend.\n"
     ]
    },
    {
     "name": "stdout",
     "output_type": "stream",
     "text": [
      "Results of Dickey-Fuller Test\n",
      "Test Statistic                 -3.428922\n",
      "p-value                         0.010012\n",
      "#Lags Used                      8.000000\n",
      "Number of Observations Used    70.000000\n",
      "Critical Value (1%)            -3.527426\n",
      "Critical Value (5%)            -2.903811\n",
      "Critical Value (10%)           -2.589320\n",
      "dtype: float64\n",
      "the lag value is: 9\n",
      "R^2 error: 0.9694226247781889\n",
      "Mean Absolute Error: 0.12950818195864028\n",
      "Mean squared error: 0.021550033593554105\n",
      "Root mean squared error: 0.14679929697908675\n"
     ]
    },
    {
     "data": {
      "image/png": "[encoded data removed]",
      "text/plain": [
       "<Figure size 432x288 with 1 Axes>"
      ]
     },
     "metadata": {},
     "output_type": "display_data"
    },
    {
     "data": {
      "image/png": "[encoded data removed]",
      "text/plain": [
       "<Figure size 432x288 with 1 Axes>"
      ]
     },
     "metadata": {},
     "output_type": "display_data"
    },
    {
     "data": {
      "image/png": "[encoded data removed]",
      "text/plain": [
       "<Figure size 432x288 with 1 Axes>"
      ]
     },
     "metadata": {},
     "output_type": "display_data"
    }
   ],
   "source": [
    "est_trend(date_case_2, 40)"
   ]
  },
  {
   "cell_type": "code",
   "execution_count": 186,
   "metadata": {},
   "outputs": [],
   "source": [
    "def test_stationarity(data):\n",
    "    movingAverage = data.rolling(window=12).mean()\n",
    "    movingStd = data.rolling(window=12).std()\n",
    "    plt.plot(data)\n",
    "    plt.plot(movingAverage, color = 'red')\n",
    "    plt.plot(movingStd, color = 'black')\n",
    "    \n",
    "    print(\"Results of Dickey-Fuller Test\")\n",
    "    test = adfuller(data['Cases'], autolag = \"AIC\")\n",
    "\n",
    "    output = pd.Series(test[0:4], index = ['Test Statistic', 'p-value', '#Lags Used', 'Number of Observations Used'])\n",
    "    for k,v in test[4].items():\n",
    "        output['Critical Value (%s)'%k] = v\n",
    "    \n",
    "    print(output)"
   ]
  },
  {
   "cell_type": "code",
   "execution_count": 198,
   "metadata": {},
   "outputs": [
    {
     "name": "stdout",
     "output_type": "stream",
     "text": [
      "the lag value is: 11\n"
     ]
    },
    {
     "name": "stderr",
     "output_type": "stream",
     "text": [
      "/Users/anyaaggarwal/anaconda3/lib/python3.6/site-packages/statsmodels/tsa/base/tsa_model.py:171: ValueWarning: No frequency information was provided, so inferred frequency D will be used.\n",
      "  % freq, ValueWarning)\n"
     ]
    }
   ],
   "source": [
    "from statsmodels.tsa.ar_model import AR\n",
    "from sklearn.metrics import r2_score\n",
    "\n",
    "#train autoregression model\n",
    "model = AR(train)\n",
    "model_fitted = model.fit()\n",
    "print('the lag value is: %s' % model_fitted.k_ar)"
   ]
  },
  {
   "cell_type": "code",
   "execution_count": 208,
   "metadata": {},
   "outputs": [
    {
     "name": "stdout",
     "output_type": "stream",
     "text": [
      "2020-05-06    1.543465e+10\n",
      "2020-05-07    1.783256e+10\n",
      "2020-05-08    2.060864e+10\n",
      "2020-05-09    2.385657e+10\n",
      "2020-05-10    2.771734e+10\n",
      "2020-05-11    3.253471e+10\n",
      "2020-05-12    3.799333e+10\n",
      "2020-05-13    4.395817e+10\n",
      "2020-05-14    4.987294e+10\n",
      "Freq: D, dtype: float64\n"
     ]
    }
   ],
   "source": [
    "## predict\n",
    "predict = model_fitted.predict(start = len(train), end = len(train) + len(test) - 1, dynamic = False)\n",
    "print(predict)"
   ]
  },
  {
   "cell_type": "code",
   "execution_count": 231,
   "metadata": {
    "scrolled": false
   },
   "outputs": [
    {
     "data": {
      "text/plain": [
       "[<matplotlib.lines.Line2D at 0x1c2449cd68>]"
      ]
     },
     "execution_count": 231,
     "metadata": {},
     "output_type": "execute_result"
    },
    {
     "data": {
      "image/png": "[encoded data removed]",
      "text/plain": [
       "<Figure size 432x288 with 1 Axes>"
      ]
     },
     "metadata": {},
     "output_type": "display_data"
    }
   ],
   "source": [
    "date_case_2_sqrt = np.sqrt(date_case_2)\n",
    "plt.plot(date_case_2_sqrt)"
   ]
  },
  {
   "cell_type": "code",
   "execution_count": 232,
   "metadata": {},
   "outputs": [
    {
     "data": {
      "text/plain": [
       "[<matplotlib.lines.Line2D at 0x1c242720f0>]"
      ]
     },
     "execution_count": 232,
     "metadata": {},
     "output_type": "execute_result"
    },
    {
     "data": {
      "image/png": "[encoded data removed]",
      "text/plain": [
       "<Figure size 432x288 with 1 Axes>"
      ]
     },
     "metadata": {},
     "output_type": "display_data"
    }
   ],
   "source": [
    "movingAverage2 = date_case_2_sqrt.rolling(window=12).mean()\n",
    "movingStd2 = date_case_2_sqrt.rolling(window=12).std()\n",
    "plt.plot(date_case_2_sqrt)\n",
    "plt.plot(movingAverage2, color = 'red')"
   ]
  },
  {
   "cell_type": "code",
   "execution_count": 233,
   "metadata": {
    "scrolled": true
   },
   "outputs": [
    {
     "data": {
      "text/html": [
       "<div>\n",
       "<style scoped>\n",
       "    .dataframe tbody tr th:only-of-type {\n",
       "        vertical-align: middle;\n",
       "    }\n",
       "\n",
       "    .dataframe tbody tr th {\n",
       "        vertical-align: top;\n",
       "    }\n",
       "\n",
       "    .dataframe thead th {\n",
       "        text-align: right;\n",
       "    }\n",
       "</style>\n",
       "<table border=\"1\" class=\"dataframe\">\n",
       "  <thead>\n",
       "    <tr style=\"text-align: right;\">\n",
       "      <th></th>\n",
       "      <th>Cases</th>\n",
       "    </tr>\n",
       "  </thead>\n",
       "  <tbody>\n",
       "    <tr>\n",
       "      <th>2020-03-08</th>\n",
       "      <td>2.833408</td>\n",
       "    </tr>\n",
       "    <tr>\n",
       "      <th>2020-03-09</th>\n",
       "      <td>2.500074</td>\n",
       "    </tr>\n",
       "    <tr>\n",
       "      <th>2020-03-10</th>\n",
       "      <td>2.928447</td>\n",
       "    </tr>\n",
       "    <tr>\n",
       "      <th>2020-03-11</th>\n",
       "      <td>3.791006</td>\n",
       "    </tr>\n",
       "    <tr>\n",
       "      <th>2020-03-12</th>\n",
       "      <td>4.741472</td>\n",
       "    </tr>\n",
       "    <tr>\n",
       "      <th>2020-03-13</th>\n",
       "      <td>5.158896</td>\n",
       "    </tr>\n",
       "    <tr>\n",
       "      <th>2020-03-14</th>\n",
       "      <td>5.460585</td>\n",
       "    </tr>\n",
       "    <tr>\n",
       "      <th>2020-03-15</th>\n",
       "      <td>7.542060</td>\n",
       "    </tr>\n",
       "    <tr>\n",
       "      <th>2020-03-16</th>\n",
       "      <td>7.566566</td>\n",
       "    </tr>\n",
       "    <tr>\n",
       "      <th>2020-03-17</th>\n",
       "      <td>8.127149</td>\n",
       "    </tr>\n",
       "  </tbody>\n",
       "</table>\n",
       "</div>"
      ],
      "text/plain": [
       "               Cases\n",
       "2020-03-08  2.833408\n",
       "2020-03-09  2.500074\n",
       "2020-03-10  2.928447\n",
       "2020-03-11  3.791006\n",
       "2020-03-12  4.741472\n",
       "2020-03-13  5.158896\n",
       "2020-03-14  5.460585\n",
       "2020-03-15  7.542060\n",
       "2020-03-16  7.566566\n",
       "2020-03-17  8.127149"
      ]
     },
     "execution_count": 233,
     "metadata": {},
     "output_type": "execute_result"
    }
   ],
   "source": [
    "minusMovAvg2 = date_case_2_sqrt - movingAverage2\n",
    "minusMovAvg2.head(12)\n",
    "\n",
    "##remove null values\n",
    "minusMovAvg2.dropna(inplace = True)\n",
    "minusMovAvg2.head(10)"
   ]
  },
  {
   "cell_type": "code",
   "execution_count": 234,
   "metadata": {
    "scrolled": true
   },
   "outputs": [
    {
     "data": {
      "image/png": "[encoded data removed]",
      "text/plain": [
       "<Figure size 432x288 with 1 Axes>"
      ]
     },
     "metadata": {},
     "output_type": "display_data"
    }
   ],
   "source": [
    "plt.plot(minusMovAvg2)\n",
    "plt.plot(movingAverage2, color = 'red', label = 'RollingMean')\n",
    "plt.plot(movingStd2, color = 'black', label = 'RollingStd')\n",
    "plt.show()"
   ]
  },
  {
   "cell_type": "code",
   "execution_count": 235,
   "metadata": {
    "scrolled": true
   },
   "outputs": [
    {
     "name": "stdout",
     "output_type": "stream",
     "text": [
      "Results of Dickey-Fuller Test\n",
      "Test Statistic                  4.616363\n",
      "p-value                         1.000000\n",
      "#Lags Used                      3.000000\n",
      "Number of Observations Used    75.000000\n",
      "Critical Value (1%)            -3.520713\n",
      "Critical Value (5%)            -2.900925\n",
      "Critical Value (10%)           -2.587781\n",
      "dtype: float64\n"
     ]
    }
   ],
   "source": [
    "print(\"Results of Dickey-Fuller Test\")\n",
    "test = adfuller(date_case_2_sqrt['Cases'], autolag = \"AIC\")\n",
    "\n",
    "output = pd.Series(test[0:4], index = ['Test Statistic', 'p-value', '#Lags Used', 'Number of Observations Used'])\n",
    "for k,v in test[4].items():\n",
    "    output['Critical Value (%s)'%k] = v\n",
    "    \n",
    "print(output)"
   ]
  },
  {
   "cell_type": "code",
   "execution_count": 406,
   "metadata": {
    "scrolled": true
   },
   "outputs": [],
   "source": [
    "weight_avg2 = date_case_2_sqrt.ewm(halflife = 12, min_periods = 0, adjust = True).mean()\n",
    "##plt.plot(date_case_2_sqrt)\n",
    "##plt.plot(weight_avg2, color = 'red')\n",
    "##test_stationarity(date_case_2_sqrt)"
   ]
  },
  {
   "cell_type": "code",
   "execution_count": 455,
   "metadata": {},
   "outputs": [
    {
     "name": "stdout",
     "output_type": "stream",
     "text": [
      "the lag value is: 11\n",
      "2020-04-30     83988.143422\n",
      "2020-05-01     91713.752469\n",
      "2020-05-02     98520.960869\n",
      "2020-05-03    106695.176971\n",
      "2020-05-04    112856.363620\n",
      "2020-05-05    122852.153796\n",
      "2020-05-06    131516.682967\n",
      "2020-05-07    142132.600539\n",
      "2020-05-08    152542.906867\n",
      "2020-05-09    165805.394559\n",
      "2020-05-10    176604.712290\n",
      "2020-05-11    190960.713419\n",
      "2020-05-12    203734.492186\n",
      "2020-05-13    221517.851607\n",
      "2020-05-14    235768.969884\n",
      "Freq: D, dtype: float64\n",
      "R^2 error: 0.8046865137011097\n",
      "Mean Absolute Error: 12078.372574789291\n",
      "Mean squared error: 259678994.68759868\n",
      "Root mean squared error: 16114.558470141175\n"
     ]
    },
    {
     "name": "stderr",
     "output_type": "stream",
     "text": [
      "/Users/anyaaggarwal/anaconda3/lib/python3.6/site-packages/statsmodels/tsa/base/tsa_model.py:171: ValueWarning: No frequency information was provided, so inferred frequency D will be used.\n",
      "  % freq, ValueWarning)\n"
     ]
    },
    {
     "data": {
      "image/png": "[encoded data removed]",
      "text/plain": [
       "<Figure size 432x288 with 1 Axes>"
      ]
     },
     "metadata": {},
     "output_type": "display_data"
    }
   ],
   "source": [
    "Y = date_case_2\n",
    "train = Y[1: len(Y) - 15]\n",
    "test = Y[len(Y) - 15:]\n",
    "\n",
    "model = AR(train)\n",
    "model_fitted = model.fit()\n",
    "print('the lag value is: %s' % model_fitted.k_ar)\n",
    "\n",
    "predict = model_fitted.predict(start = len(train), end = len(train) + len(test) - 1, dynamic = False)\n",
    "print(predict)\n",
    "\n",
    "plt.plot(date_case_2.tail(15))\n",
    "plt.title(\"Original Data Prediction (No Transformation)\")\n",
    "plt.plot(predict, color = 'red')\n",
    "\n",
    "r2_err = r2_score(date_case_2.tail(15), predict)\n",
    "print('R^2 error: %s' % r2_err)\n",
    "    \n",
    "    #mean absolute error - measuring prediction errors because prediction in same unit as original (avg forecast error)\n",
    "from sklearn.metrics import mean_absolute_error\n",
    "mae = mean_absolute_error(date_case_2.tail(15), predict)\n",
    "print('Mean Absolute Error: %s' % mae)\n",
    "    \n",
    "    #root mean squared error - sqrt average of square of forecase error (mse): basically same as mse but when dealing\n",
    "    #with prediction in same unit as original - how concentrated is data around line of best fit\n",
    "from sklearn.metrics import mean_squared_error\n",
    "mse = mean_squared_error(predict, date_case_2.tail(15))\n",
    "print('Mean squared error: %s' % mse)\n",
    "    \n",
    "rmse = np.sqrt(mse)\n",
    "print('Root mean squared error: %s' % rmse)"
   ]
  },
  {
   "cell_type": "code",
   "execution_count": 456,
   "metadata": {},
   "outputs": [],
   "source": [
    "X_sqrt = date_case_2_sqrt.dropna()\n",
    "train_sq = X_sqrt[1: len(X_sqrt) - 9]\n",
    "test_sq = X_sqrt[len(X_sqrt) - 9:]"
   ]
  },
  {
   "cell_type": "code",
   "execution_count": 302,
   "metadata": {
    "scrolled": true
   },
   "outputs": [
    {
     "name": "stdout",
     "output_type": "stream",
     "text": [
      "the lag value is: 11\n"
     ]
    },
    {
     "name": "stderr",
     "output_type": "stream",
     "text": [
      "/Users/anyaaggarwal/anaconda3/lib/python3.6/site-packages/statsmodels/tsa/base/tsa_model.py:171: ValueWarning: No frequency information was provided, so inferred frequency D will be used.\n",
      "  % freq, ValueWarning)\n"
     ]
    }
   ],
   "source": [
    "model_sqrt = AR(train_sq)\n",
    "model_fitted_sqrt = model_sqrt.fit()\n",
    "print('the lag value is: %s' % model_fitted_sqrt.k_ar)"
   ]
  },
  {
   "cell_type": "code",
   "execution_count": 304,
   "metadata": {
    "scrolled": true
   },
   "outputs": [
    {
     "name": "stdout",
     "output_type": "stream",
     "text": [
      "2020-05-06    350.472125\n",
      "2020-05-07    362.779046\n",
      "2020-05-08    374.769086\n",
      "2020-05-09    385.966421\n",
      "2020-05-10    396.866027\n",
      "2020-05-11    408.669007\n",
      "2020-05-12    421.395536\n",
      "2020-05-13    434.657847\n",
      "2020-05-14    448.482629\n",
      "Freq: D, dtype: float64\n"
     ]
    },
    {
     "data": {
      "text/plain": [
       "[<matplotlib.lines.Line2D at 0x1a20adea58>]"
      ]
     },
     "execution_count": 304,
     "metadata": {},
     "output_type": "execute_result"
    },
    {
     "data": {
      "image/png": "[encoded data removed]",
      "text/plain": [
       "<Figure size 432x288 with 1 Axes>"
      ]
     },
     "metadata": {},
     "output_type": "display_data"
    }
   ],
   "source": [
    "predict_sqrt = model_fitted_sqrt.predict(start = len(train_sq), end = len(train_sq) + len(test_sq) - 1, dynamic = False)\n",
    "print(predict_sqrt)\n",
    "\n",
    "plt.plot(date_case_2_sqrt.tail(9))\n",
    "plt.plot(predict_sqrt, color = 'red')"
   ]
  },
  {
   "cell_type": "code",
   "execution_count": 124,
   "metadata": {
    "scrolled": true
   },
   "outputs": [
    {
     "data": {
      "text/plain": [
       "<matplotlib.axes._subplots.AxesSubplot at 0x1a14697ac8>"
      ]
     },
     "execution_count": 124,
     "metadata": {},
     "output_type": "execute_result"
    },
    {
     "data": {
      "image/png": "[encoded data removed]",
      "text/plain": [
       "<Figure size 432x288 with 1 Axes>"
      ]
     },
     "metadata": {},
     "output_type": "display_data"
    }
   ],
   "source": [
    "##differencing \n",
    "date_case_2['CasesDiff'] = date_case_2['Cases'] = date_case_2['Cases'].shift(1)\n",
    "date_case_2['CasesDiff'].dropna().plot()"
   ]
  }
 ],
 "metadata": {
  "kernelspec": {
   "display_name": "Python 3",
   "language": "python",
   "name": "python3"
  },
  "language_info": {
   "codemirror_mode": {
    "name": "ipython",
    "version": 3
   },
   "file_extension": ".py",
   "mimetype": "text/x-python",
   "name": "python",
   "nbconvert_exporter": "python",
   "pygments_lexer": "ipython3",
   "version": "3.6.5"
  }
 },
 "nbformat": 4,
 "nbformat_minor": 2
}
