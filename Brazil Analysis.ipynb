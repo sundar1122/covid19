{
 "cells": [
  {
   "cell_type": "code",
   "execution_count": 89,
   "metadata": {},
   "outputs": [],
   "source": [
    "## imports\n",
    "import pandas as pd\n",
    "from matplotlib import pyplot as plt\n",
    "%matplotlib inline\n",
    "import statsmodels.tsa.ar_model\n",
    "from sklearn.metrics import mean_squared_error\n",
    "import numpy as np\n",
    "from math import sqrt"
   ]
  },
  {
   "cell_type": "code",
   "execution_count": 10,
   "metadata": {
    "pycharm": {
     "name": "#%%\n"
    }
   },
   "outputs": [
    {
     "data": {
      "text/html": [
       "<div>\n",
       "<style scoped>\n",
       "    .dataframe tbody tr th:only-of-type {\n",
       "        vertical-align: middle;\n",
       "    }\n",
       "\n",
       "    .dataframe tbody tr th {\n",
       "        vertical-align: top;\n",
       "    }\n",
       "\n",
       "    .dataframe thead th {\n",
       "        text-align: right;\n",
       "    }\n",
       "</style>\n",
       "<table border=\"1\" class=\"dataframe\">\n",
       "  <thead>\n",
       "    <tr style=\"text-align: right;\">\n",
       "      <th></th>\n",
       "      <th>date</th>\n",
       "      <th>region</th>\n",
       "      <th>state</th>\n",
       "      <th>cases</th>\n",
       "      <th>newCases</th>\n",
       "      <th>deaths</th>\n",
       "    </tr>\n",
       "  </thead>\n",
       "  <tbody>\n",
       "    <tr>\n",
       "      <th>0</th>\n",
       "      <td>3/7/20</td>\n",
       "      <td>Centro-Oeste</td>\n",
       "      <td>Distrito Federal</td>\n",
       "      <td>1</td>\n",
       "      <td>1</td>\n",
       "      <td>0</td>\n",
       "    </tr>\n",
       "    <tr>\n",
       "      <th>1</th>\n",
       "      <td>3/8/20</td>\n",
       "      <td>Centro-Oeste</td>\n",
       "      <td>Distrito Federal</td>\n",
       "      <td>1</td>\n",
       "      <td>0</td>\n",
       "      <td>0</td>\n",
       "    </tr>\n",
       "    <tr>\n",
       "      <th>2</th>\n",
       "      <td>3/9/20</td>\n",
       "      <td>Centro-Oeste</td>\n",
       "      <td>Distrito Federal</td>\n",
       "      <td>1</td>\n",
       "      <td>0</td>\n",
       "      <td>0</td>\n",
       "    </tr>\n",
       "    <tr>\n",
       "      <th>3</th>\n",
       "      <td>3/10/20</td>\n",
       "      <td>Centro-Oeste</td>\n",
       "      <td>Distrito Federal</td>\n",
       "      <td>1</td>\n",
       "      <td>0</td>\n",
       "      <td>0</td>\n",
       "    </tr>\n",
       "    <tr>\n",
       "      <th>4</th>\n",
       "      <td>3/11/20</td>\n",
       "      <td>Centro-Oeste</td>\n",
       "      <td>Distrito Federal</td>\n",
       "      <td>2</td>\n",
       "      <td>1</td>\n",
       "      <td>0</td>\n",
       "    </tr>\n",
       "  </tbody>\n",
       "</table>\n",
       "</div>"
      ],
      "text/plain": [
       "      date        region             state  cases  newCases  deaths\n",
       "0   3/7/20  Centro-Oeste  Distrito Federal      1         1       0\n",
       "1   3/8/20  Centro-Oeste  Distrito Federal      1         0       0\n",
       "2   3/9/20  Centro-Oeste  Distrito Federal      1         0       0\n",
       "3  3/10/20  Centro-Oeste  Distrito Federal      1         0       0\n",
       "4  3/11/20  Centro-Oeste  Distrito Federal      2         1       0"
      ]
     },
     "execution_count": 10,
     "metadata": {},
     "output_type": "execute_result"
    }
   ],
   "source": [
    "## loading and reading in csv dataset using pandas\n",
    "brazil_df = pd.read_csv('brazil_covid19_revised.csv')\n",
    "brazil_df.head()"
   ]
  },
  {
   "cell_type": "code",
   "execution_count": 11,
   "metadata": {
    "scrolled": true
   },
   "outputs": [
    {
     "data": {
      "text/plain": [
       "202918"
      ]
     },
     "execution_count": 11,
     "metadata": {},
     "output_type": "execute_result"
    }
   ],
   "source": [
    "brazil_df[brazil_df['date'] == '5/14/20']['cases'].sum()"
   ]
  },
  {
   "cell_type": "code",
   "execution_count": 12,
   "metadata": {},
   "outputs": [],
   "source": [
    "brazil_df['date'] = brazil_df['date'].replace('3/1/20','3/01/20')\n",
    "brazil_df['date'] = brazil_df['date'].replace('3/2/20','3/02/20')\n",
    "brazil_df['date'] = brazil_df['date'].replace('3/3/20','3/03/20')\n",
    "brazil_df['date'] = brazil_df['date'].replace('3/4/20','3/04/20')\n",
    "brazil_df['date'] = brazil_df['date'].replace('3/5/20','3/05/20')\n",
    "brazil_df['date'] = brazil_df['date'].replace('3/6/20','3/06/20')\n",
    "brazil_df['date'] = brazil_df['date'].replace('3/7/20','3/07/20')\n",
    "brazil_df['date'] = brazil_df['date'].replace('3/8/20','3/08/20')\n",
    "brazil_df['date'] = brazil_df['date'].replace('3/9/20','3/09/20')\n",
    "\n",
    "brazil_df['date'] = brazil_df['date'].replace('4/1/20','4/01/20')\n",
    "brazil_df['date'] = brazil_df['date'].replace('4/2/20','4/02/20')\n",
    "brazil_df['date'] = brazil_df['date'].replace('4/3/20','4/03/20')\n",
    "brazil_df['date'] = brazil_df['date'].replace('4/4/20','4/04/20')\n",
    "brazil_df['date'] = brazil_df['date'].replace('4/5/20','4/05/20')\n",
    "brazil_df['date'] = brazil_df['date'].replace('4/6/20','4/06/20')\n",
    "brazil_df['date'] = brazil_df['date'].replace('4/7/20','4/07/20')\n",
    "brazil_df['date'] = brazil_df['date'].replace('4/8/20','4/08/20')\n",
    "brazil_df['date'] = brazil_df['date'].replace('4/9/20','4/09/20')\n",
    "\n",
    "brazil_df['date'] = brazil_df['date'].replace('5/1/20','5/01/20')\n",
    "brazil_df['date'] = brazil_df['date'].replace('5/2/20','5/02/20')\n",
    "brazil_df['date'] = brazil_df['date'].replace('5/3/20','5/03/20')\n",
    "brazil_df['date'] = brazil_df['date'].replace('5/4/20','5/04/20')\n",
    "brazil_df['date'] = brazil_df['date'].replace('5/5/20','5/05/20')\n",
    "brazil_df['date'] = brazil_df['date'].replace('5/6/20','5/06/20')\n",
    "brazil_df['date'] = brazil_df['date'].replace('5/7/20','5/07/20')\n",
    "brazil_df['date'] = brazil_df['date'].replace('5/8/20','5/08/20')\n",
    "brazil_df['date'] = brazil_df['date'].replace('5/9/20','5/09/20')"
   ]
  },
  {
   "cell_type": "code",
   "execution_count": 13,
   "metadata": {},
   "outputs": [],
   "source": [
    "brazil_df_sort = brazil_df.sort_values(by = 'date')"
   ]
  },
  {
   "cell_type": "code",
   "execution_count": 30,
   "metadata": {},
   "outputs": [],
   "source": [
    "date_cases = {}\n",
    "date_cases_keys = brazil_df_sort['date']\n",
    "final_keys = []\n",
    "for date in date_cases_keys:\n",
    "    if date not in final_keys:\n",
    "        final_keys.append(date)\n",
    "date_cases_values = []\n",
    "\n",
    "test_d = '2/24/20'\n",
    "\n",
    "for d in date_cases_keys:\n",
    "    if d != test_d:\n",
    "        value = brazil_df_sort[brazil_df_sort['date'] == d]['cases'].sum()\n",
    "        date_cases_values.append(value)\n",
    "        test_d = d\n"
   ]
  },
  {
   "cell_type": "code",
   "execution_count": 59,
   "metadata": {},
   "outputs": [],
   "source": [
    "date_cases = {final_keys[i]: date_cases_values[i] for i in range(len(final_keys))} \n",
    "date_case = pd.DataFrame.from_dict(date_cases, orient= 'index', columns = ['Cases'])"
   ]
  },
  {
   "cell_type": "code",
   "execution_count": 60,
   "metadata": {},
   "outputs": [],
   "source": [
    "brazil_df_sort['date'] = pd.to_datetime(brazil_df_sort['date'])"
   ]
  },
  {
   "cell_type": "code",
   "execution_count": 178,
   "metadata": {},
   "outputs": [],
   "source": [
    "dates_list = []\n",
    "for date in brazil_df_sort['date']:\n",
    "    if date not in dates_list:\n",
    "        dates_list.append(date)\n",
    "date_cases_2 = {dates_list[i]: date_cases_values[i] for i in range(len(dates_list))} \n",
    "date_case_2 = pd.DataFrame.from_dict(date_cases_2, orient= 'index', columns = ['Cases'])"
   ]
  },
  {
   "cell_type": "code",
   "execution_count": 62,
   "metadata": {
    "scrolled": true
   },
   "outputs": [
    {
     "data": {
      "image/png": "[encoded data removed]",
      "text/plain": [
       "<Figure size 432x288 with 1 Axes>"
      ]
     },
     "metadata": {},
     "output_type": "display_data"
    }
   ],
   "source": [
    "date_case_2['Cases'].plot()\n",
    "plt.show()"
   ]
  },
  {
   "cell_type": "code",
   "execution_count": 80,
   "metadata": {},
   "outputs": [
    {
     "name": "stdout",
     "output_type": "stream",
     "text": [
      "                    Cases\n",
      "2020-02-26            NaN\n",
      "2020-02-27            NaN\n",
      "2020-02-28            NaN\n",
      "2020-02-29            NaN\n",
      "2020-03-01            NaN\n",
      "2020-03-02            NaN\n",
      "2020-03-03            NaN\n",
      "2020-03-04            NaN\n",
      "2020-03-05            NaN\n",
      "2020-03-06            NaN\n",
      "2020-03-07            NaN\n",
      "2020-03-08       6.500000\n",
      "2020-03-09       8.500000\n",
      "2020-03-10      11.250000\n",
      "2020-03-11      15.500000\n",
      "2020-03-12      21.750000\n",
      "2020-03-13      29.750000\n",
      "2020-03-14      39.666667\n",
      "2020-03-15      56.166667\n",
      "2020-03-16      75.416667\n",
      "2020-03-17      99.083333\n",
      "2020-03-18     133.666667\n",
      "2020-03-19     183.833333\n",
      "2020-03-20     257.083333\n",
      "2020-03-21     349.000000\n",
      "2020-03-22     475.000000\n",
      "2020-03-23     628.250000\n",
      "2020-03-24     805.250000\n",
      "2020-03-25     999.833333\n",
      "2020-03-26    1232.666667\n",
      "...                   ...\n",
      "2020-04-15   18375.916667\n",
      "2020-04-16   20054.833333\n",
      "2020-04-17   21934.166667\n",
      "2020-04-18   23979.416667\n",
      "2020-04-19   26057.500000\n",
      "2020-04-20   28112.000000\n",
      "2020-04-21   30213.833333\n",
      "2020-04-22   32390.416667\n",
      "2020-04-23   34787.500000\n",
      "2020-04-24   37356.333333\n",
      "2020-04-25   40279.583333\n",
      "2020-04-26   43331.750000\n",
      "2020-04-27   46513.500000\n",
      "2020-04-28   49968.583333\n",
      "2020-04-29   53675.250000\n",
      "2020-04-30   57740.333333\n",
      "2020-05-01   62127.416667\n",
      "2020-05-02   66778.666667\n",
      "2020-05-03   71617.666667\n",
      "2020-05-04   76786.250000\n",
      "2020-05-05   82221.500000\n",
      "2020-05-06   88240.083333\n",
      "2020-05-07   94623.166667\n",
      "2020-05-08  101576.500000\n",
      "2020-05-09  109029.666667\n",
      "2020-05-10  116597.416667\n",
      "2020-05-11  124111.500000\n",
      "2020-05-12  131795.583333\n",
      "2020-05-13  139935.166667\n",
      "2020-05-14  148812.000000\n",
      "\n",
      "[79 rows x 1 columns]                    Cases\n",
      "2020-02-26           NaN\n",
      "2020-02-27           NaN\n",
      "2020-02-28           NaN\n",
      "2020-02-29           NaN\n",
      "2020-03-01           NaN\n",
      "2020-03-02           NaN\n",
      "2020-03-03           NaN\n",
      "2020-03-04           NaN\n",
      "2020-03-05           NaN\n",
      "2020-03-06           NaN\n",
      "2020-03-07           NaN\n",
      "2020-03-08      8.118441\n",
      "2020-03-09      9.482040\n",
      "2020-03-10     11.647278\n",
      "2020-03-11     16.042557\n",
      "2020-03-12     23.281382\n",
      "2020-03-13     31.069204\n",
      "2020-03-14     39.306103\n",
      "2020-03-15     58.787496\n",
      "2020-03-16     75.297541\n",
      "2020-03-17     94.118357\n",
      "2020-03-18    129.286386\n",
      "2020-03-19    185.376684\n",
      "2020-03-20    270.863085\n",
      "2020-03-21    358.060939\n",
      "2020-03-22    481.791732\n",
      "2020-03-23    610.339417\n",
      "2020-03-24    731.832957\n",
      "2020-03-25    830.464802\n",
      "2020-03-26    945.389226\n",
      "...                  ...\n",
      "2020-04-15   5872.489831\n",
      "2020-04-16   6216.740784\n",
      "2020-04-17   6665.997993\n",
      "2020-04-18   7110.001988\n",
      "2020-04-19   7472.850539\n",
      "2020-04-20   7815.670890\n",
      "2020-04-21   8189.602331\n",
      "2020-04-22   8584.642995\n",
      "2020-04-23   9035.957518\n",
      "2020-04-24   9492.741096\n",
      "2020-04-25  10189.929650\n",
      "2020-04-26  10752.541071\n",
      "2020-04-27  11527.704356\n",
      "2020-04-28  12444.204050\n",
      "2020-04-29  13711.918413\n",
      "2020-04-30  15325.195537\n",
      "2020-05-01  16826.428852\n",
      "2020-05-02  18002.257436\n",
      "2020-05-03  18837.610070\n",
      "2020-05-04  19590.768494\n",
      "2020-05-05  20362.378400\n",
      "2020-05-06  21575.915784\n",
      "2020-05-07  23246.257481\n",
      "2020-05-08  24979.038865\n",
      "2020-05-09  26835.984313\n",
      "2020-05-10  28180.208853\n",
      "2020-05-11  29009.263240\n",
      "2020-05-12  30012.244721\n",
      "2020-05-13  31250.378083\n",
      "2020-05-14  32846.817549\n",
      "\n",
      "[79 rows x 1 columns]\n"
     ]
    }
   ],
   "source": [
    "## Determining rolling statistics - stationarety\n",
    "rolmean = date_case_2.rolling(window= 12).mean()\n",
    "rolstd = date_case_2.rolling(window=12).std()\n",
    "\n",
    "print(rolmean, rolstd)"
   ]
  },
  {
   "cell_type": "code",
   "execution_count": 82,
   "metadata": {},
   "outputs": [
    {
     "data": {
      "image/png": "[encoded data removed]",
      "text/plain": [
       "<Figure size 432x288 with 1 Axes>"
      ]
     },
     "metadata": {},
     "output_type": "display_data"
    }
   ],
   "source": [
    "## plot rolling statistics\n",
    "orig = plt.plot(date_case_2, color = 'blue', label= \"Original\")\n",
    "mean = plt.plot(rolmean, color = 'red', label = 'Rolling Mean')\n",
    "std = plt.plot(rolstd, color = 'black', label = \"Rolling Std\")\n",
    "plt.legend(loc = 'best')\n",
    "plt.show(block = False)\n",
    "## mean and std not constant - so not stationary"
   ]
  },
  {
   "cell_type": "code",
   "execution_count": 87,
   "metadata": {},
   "outputs": [
    {
     "name": "stdout",
     "output_type": "stream",
     "text": [
      "Results of Dickey-Fuller Test\n",
      "Test Statistic                  1.425208\n",
      "p-value                         0.997226\n",
      "#Lags Used                      7.000000\n",
      "Number of Observations Used    71.000000\n",
      "Critical Value (1%)            -3.526005\n",
      "Critical Value (5%)            -2.903200\n",
      "Critical Value (10%)           -2.588995\n",
      "dtype: float64\n"
     ]
    }
   ],
   "source": [
    "## Perform Dickey-Fuller test\n",
    "from statsmodels.tsa.stattools import adfuller\n",
    "\n",
    "print(\"Results of Dickey-Fuller Test\")\n",
    "test = adfuller(date_case_2['Cases'], autolag = \"AIC\")\n",
    "\n",
    "output = pd.Series(test[0:4], index = ['Test Statistic', 'p-value', '#Lags Used', 'Number of Observations Used'])\n",
    "for k,v in test[4].items():\n",
    "    output['Critical Value (%s)'%k] = v\n",
    "    \n",
    "print(output)\n",
    "\n",
    "##cannot reject null hypothesis - not stationary"
   ]
  },
  {
   "cell_type": "code",
   "execution_count": 181,
   "metadata": {
    "scrolled": true
   },
   "outputs": [
    {
     "data": {
      "text/plain": [
       "[<matplotlib.lines.Line2D at 0x1c23389160>]"
      ]
     },
     "execution_count": 181,
     "metadata": {},
     "output_type": "execute_result"
    },
    {
     "data": {
      "image/png": "[encoded data removed]",
      "text/plain": [
       "<Figure size 432x288 with 1 Axes>"
      ]
     },
     "metadata": {},
     "output_type": "display_data"
    }
   ],
   "source": [
    "## Estimating trend\n",
    "date_case_2_square = np.square(date_case_2)\n",
    "plt.plot(date_case_2_square)"
   ]
  },
  {
   "cell_type": "code",
   "execution_count": 182,
   "metadata": {},
   "outputs": [
    {
     "data": {
      "text/plain": [
       "[<matplotlib.lines.Line2D at 0x1c234b1da0>]"
      ]
     },
     "execution_count": 182,
     "metadata": {},
     "output_type": "execute_result"
    },
    {
     "data": {
      "image/png": "[encoded data removed]",
      "text/plain": [
       "<Figure size 432x288 with 1 Axes>"
      ]
     },
     "metadata": {},
     "output_type": "display_data"
    }
   ],
   "source": [
    "## calculating moving average\n",
    "movingAverage = date_case_2_square.rolling(window=12).mean()\n",
    "movingStd = date_case_2_square.rolling(window=12).std()\n",
    "plt.plot(date_case_2_square)\n",
    "plt.plot(movingAverage, color = 'red')"
   ]
  },
  {
   "cell_type": "code",
   "execution_count": 183,
   "metadata": {},
   "outputs": [
    {
     "data": {
      "text/html": [
       "<div>\n",
       "<style scoped>\n",
       "    .dataframe tbody tr th:only-of-type {\n",
       "        vertical-align: middle;\n",
       "    }\n",
       "\n",
       "    .dataframe tbody tr th {\n",
       "        vertical-align: top;\n",
       "    }\n",
       "\n",
       "    .dataframe thead th {\n",
       "        text-align: right;\n",
       "    }\n",
       "</style>\n",
       "<table border=\"1\" class=\"dataframe\">\n",
       "  <thead>\n",
       "    <tr style=\"text-align: right;\">\n",
       "      <th></th>\n",
       "      <th>Cases</th>\n",
       "    </tr>\n",
       "  </thead>\n",
       "  <tbody>\n",
       "    <tr>\n",
       "      <th>2020-03-08</th>\n",
       "      <td>522.333333</td>\n",
       "    </tr>\n",
       "    <tr>\n",
       "      <th>2020-03-09</th>\n",
       "      <td>470.333333</td>\n",
       "    </tr>\n",
       "    <tr>\n",
       "      <th>2020-03-10</th>\n",
       "      <td>905.083333</td>\n",
       "    </tr>\n",
       "    <tr>\n",
       "      <th>2020-03-11</th>\n",
       "      <td>2227.833333</td>\n",
       "    </tr>\n",
       "    <tr>\n",
       "      <th>2020-03-12</th>\n",
       "      <td>4959.083333</td>\n",
       "    </tr>\n",
       "    <tr>\n",
       "      <th>2020-03-13</th>\n",
       "      <td>7834.083333</td>\n",
       "    </tr>\n",
       "    <tr>\n",
       "      <th>2020-03-14</th>\n",
       "      <td>11651.333333</td>\n",
       "    </tr>\n",
       "    <tr>\n",
       "      <th>2020-03-15</th>\n",
       "      <td>33677.333333</td>\n",
       "    </tr>\n",
       "    <tr>\n",
       "      <th>2020-03-16</th>\n",
       "      <td>43871.083333</td>\n",
       "    </tr>\n",
       "    <tr>\n",
       "      <th>2020-03-17</th>\n",
       "      <td>66743.416667</td>\n",
       "    </tr>\n",
       "  </tbody>\n",
       "</table>\n",
       "</div>"
      ],
      "text/plain": [
       "                   Cases\n",
       "2020-03-08    522.333333\n",
       "2020-03-09    470.333333\n",
       "2020-03-10    905.083333\n",
       "2020-03-11   2227.833333\n",
       "2020-03-12   4959.083333\n",
       "2020-03-13   7834.083333\n",
       "2020-03-14  11651.333333\n",
       "2020-03-15  33677.333333\n",
       "2020-03-16  43871.083333\n",
       "2020-03-17  66743.416667"
      ]
     },
     "execution_count": 183,
     "metadata": {},
     "output_type": "execute_result"
    }
   ],
   "source": [
    "## diff between moving average and actual # of cases\n",
    "minusMovAvg = date_case_2_square - movingAverage\n",
    "minusMovAvg.head(12)\n",
    "\n",
    "##remove null values\n",
    "minusMovAvg.dropna(inplace = True)\n",
    "minusMovAvg.head(10)\n",
    "\n",
    "##these transformations works to make the time series stationary"
   ]
  },
  {
   "cell_type": "code",
   "execution_count": 184,
   "metadata": {},
   "outputs": [
    {
     "data": {
      "image/png": "[encoded data removed]",
      "text/plain": [
       "<Figure size 432x288 with 1 Axes>"
      ]
     },
     "metadata": {},
     "output_type": "display_data"
    }
   ],
   "source": [
    "plt.plot(minusMovAvg)\n",
    "plt.plot(movingAverage, color = 'red', label = 'RollingMean')\n",
    "plt.plot(movingStd, color = 'black', label = 'RollingStd')\n",
    "plt.show()"
   ]
  },
  {
   "cell_type": "code",
   "execution_count": 185,
   "metadata": {
    "scrolled": true
   },
   "outputs": [
    {
     "name": "stdout",
     "output_type": "stream",
     "text": [
      "Results of Dickey-Fuller Test\n",
      "Test Statistic                 -1.764067\n",
      "p-value                         0.398442\n",
      "#Lags Used                     11.000000\n",
      "Number of Observations Used    67.000000\n",
      "Critical Value (1%)            -3.531955\n",
      "Critical Value (5%)            -2.905755\n",
      "Critical Value (10%)           -2.590357\n",
      "dtype: float64\n"
     ]
    }
   ],
   "source": [
    "## reperform Dicky-Fuller Test on transformed data\n",
    "print(\"Results of Dickey-Fuller Test\")\n",
    "test = adfuller(date_case_2_square['Cases'], autolag = \"AIC\")\n",
    "\n",
    "output = pd.Series(test[0:4], index = ['Test Statistic', 'p-value', '#Lags Used', 'Number of Observations Used'])\n",
    "for k,v in test[4].items():\n",
    "    output['Critical Value (%s)'%k] = v\n",
    "    \n",
    "print(output)\n",
    "\n",
    "##p-value is much lower now and test statistic closer to critical value"
   ]
  },
  {
   "cell_type": "code",
   "execution_count": 186,
   "metadata": {},
   "outputs": [],
   "source": [
    "def test_stationarity(data):\n",
    "    movingAverage = data.rolling(window=12).mean()\n",
    "    movingStd = data.rolling(window=12).std()\n",
    "    plt.plot(data)\n",
    "    plt.plot(movingAverage, color = 'red')\n",
    "    plt.plot(movingStd, color = 'black')\n",
    "    \n",
    "    print(\"Results of Dickey-Fuller Test\")\n",
    "    test = adfuller(data['Cases'], autolag = \"AIC\")\n",
    "\n",
    "    output = pd.Series(test[0:4], index = ['Test Statistic', 'p-value', '#Lags Used', 'Number of Observations Used'])\n",
    "    for k,v in test[4].items():\n",
    "        output['Critical Value (%s)'%k] = v\n",
    "    \n",
    "    print(output)"
   ]
  },
  {
   "cell_type": "code",
   "execution_count": 187,
   "metadata": {},
   "outputs": [
    {
     "data": {
      "text/plain": [
       "[<matplotlib.lines.Line2D at 0x1c235f6438>]"
      ]
     },
     "execution_count": 187,
     "metadata": {},
     "output_type": "execute_result"
    },
    {
     "data": {
      "image/png": "[encoded data removed]",
      "text/plain": [
       "<Figure size 432x288 with 1 Axes>"
      ]
     },
     "metadata": {},
     "output_type": "display_data"
    }
   ],
   "source": [
    "##calculate weighted average\n",
    "weight_avg = date_case_2_square.ewm(halflife = 12, min_periods = 0, adjust = True).mean()\n",
    "plt.plot(date_case_2_square)\n",
    "plt.plot(weight_avg, color = 'red')"
   ]
  },
  {
   "cell_type": "code",
   "execution_count": 188,
   "metadata": {
    "scrolled": true
   },
   "outputs": [
    {
     "name": "stdout",
     "output_type": "stream",
     "text": [
      "Results of Dickey-Fuller Test\n",
      "Test Statistic                 -1.764067\n",
      "p-value                         0.398442\n",
      "#Lags Used                     11.000000\n",
      "Number of Observations Used    67.000000\n",
      "Critical Value (1%)            -3.531955\n",
      "Critical Value (5%)            -2.905755\n",
      "Critical Value (10%)           -2.590357\n",
      "dtype: float64\n"
     ]
    },
    {
     "data": {
      "image/png": "[encoded data removed]",
      "text/plain": [
       "<Figure size 432x288 with 1 Axes>"
      ]
     },
     "metadata": {},
     "output_type": "display_data"
    }
   ],
   "source": [
    "test_stationarity(date_case_2_square)"
   ]
  },
  {
   "cell_type": "code",
   "execution_count": 197,
   "metadata": {},
   "outputs": [],
   "source": [
    "X = date_case_2_square.dropna()\n",
    "train = X[1: len(X) - 9]\n",
    "test = X[len(X) - 9:]"
   ]
  },
  {
   "cell_type": "code",
   "execution_count": 198,
   "metadata": {},
   "outputs": [
    {
     "name": "stdout",
     "output_type": "stream",
     "text": [
      "the lag value is: 11\n"
     ]
    },
    {
     "name": "stderr",
     "output_type": "stream",
     "text": [
      "/Users/anyaaggarwal/anaconda3/lib/python3.6/site-packages/statsmodels/tsa/base/tsa_model.py:171: ValueWarning: No frequency information was provided, so inferred frequency D will be used.\n",
      "  % freq, ValueWarning)\n"
     ]
    }
   ],
   "source": [
    "from statsmodels.tsa.ar_model import AR\n",
    "from sklearn.metrics import r2_score\n",
    "\n",
    "#train autoregression model\n",
    "model = AR(train)\n",
    "model_fitted = model.fit()\n",
    "print('the lag value is: %s' % model_fitted.k_ar)"
   ]
  },
  {
   "cell_type": "code",
   "execution_count": 208,
   "metadata": {},
   "outputs": [
    {
     "name": "stdout",
     "output_type": "stream",
     "text": [
      "2020-05-06    1.543465e+10\n",
      "2020-05-07    1.783256e+10\n",
      "2020-05-08    2.060864e+10\n",
      "2020-05-09    2.385657e+10\n",
      "2020-05-10    2.771734e+10\n",
      "2020-05-11    3.253471e+10\n",
      "2020-05-12    3.799333e+10\n",
      "2020-05-13    4.395817e+10\n",
      "2020-05-14    4.987294e+10\n",
      "Freq: D, dtype: float64\n"
     ]
    }
   ],
   "source": [
    "## predict\n",
    "predict = model_fitted.predict(start = len(train), end = len(train) + len(test) - 1, dynamic = False)\n",
    "print(predict)"
   ]
  },
  {
   "cell_type": "code",
   "execution_count": 212,
   "metadata": {
    "scrolled": true
   },
   "outputs": [
    {
     "data": {
      "text/plain": [
       "[<matplotlib.lines.Line2D at 0x1c23c9a588>]"
      ]
     },
     "execution_count": 212,
     "metadata": {},
     "output_type": "execute_result"
    },
    {
     "data": {
      "image/png": "[encoded data removed]",
      "text/plain": [
       "<Figure size 432x288 with 1 Axes>"
      ]
     },
     "metadata": {},
     "output_type": "display_data"
    }
   ],
   "source": [
    "plt.plot(date_case_2_square['Cases'].tail(9))\n",
    "plt.plot(predict, color = 'red')"
   ]
  },
  {
   "cell_type": "code",
   "execution_count": 231,
   "metadata": {
    "scrolled": false
   },
   "outputs": [
    {
     "data": {
      "text/plain": [
       "[<matplotlib.lines.Line2D at 0x1c2449cd68>]"
      ]
     },
     "execution_count": 231,
     "metadata": {},
     "output_type": "execute_result"
    },
    {
     "data": {
      "image/png": "[encoded data removed]",
      "text/plain": [
       "<Figure size 432x288 with 1 Axes>"
      ]
     },
     "metadata": {},
     "output_type": "display_data"
    }
   ],
   "source": [
    "date_case_2_sqrt = np.sqrt(date_case_2)\n",
    "plt.plot(date_case_2_sqrt)"
   ]
  },
  {
   "cell_type": "code",
   "execution_count": 232,
   "metadata": {},
   "outputs": [
    {
     "data": {
      "text/plain": [
       "[<matplotlib.lines.Line2D at 0x1c242720f0>]"
      ]
     },
     "execution_count": 232,
     "metadata": {},
     "output_type": "execute_result"
    },
    {
     "data": {
      "image/png": "[encoded data removed]",
      "text/plain": [
       "<Figure size 432x288 with 1 Axes>"
      ]
     },
     "metadata": {},
     "output_type": "display_data"
    }
   ],
   "source": [
    "movingAverage2 = date_case_2_sqrt.rolling(window=12).mean()\n",
    "movingStd2 = date_case_2_sqrt.rolling(window=12).std()\n",
    "plt.plot(date_case_2_sqrt)\n",
    "plt.plot(movingAverage2, color = 'red')"
   ]
  },
  {
   "cell_type": "code",
   "execution_count": 233,
   "metadata": {
    "scrolled": true
   },
   "outputs": [
    {
     "data": {
      "text/html": [
       "<div>\n",
       "<style scoped>\n",
       "    .dataframe tbody tr th:only-of-type {\n",
       "        vertical-align: middle;\n",
       "    }\n",
       "\n",
       "    .dataframe tbody tr th {\n",
       "        vertical-align: top;\n",
       "    }\n",
       "\n",
       "    .dataframe thead th {\n",
       "        text-align: right;\n",
       "    }\n",
       "</style>\n",
       "<table border=\"1\" class=\"dataframe\">\n",
       "  <thead>\n",
       "    <tr style=\"text-align: right;\">\n",
       "      <th></th>\n",
       "      <th>Cases</th>\n",
       "    </tr>\n",
       "  </thead>\n",
       "  <tbody>\n",
       "    <tr>\n",
       "      <th>2020-03-08</th>\n",
       "      <td>2.833408</td>\n",
       "    </tr>\n",
       "    <tr>\n",
       "      <th>2020-03-09</th>\n",
       "      <td>2.500074</td>\n",
       "    </tr>\n",
       "    <tr>\n",
       "      <th>2020-03-10</th>\n",
       "      <td>2.928447</td>\n",
       "    </tr>\n",
       "    <tr>\n",
       "      <th>2020-03-11</th>\n",
       "      <td>3.791006</td>\n",
       "    </tr>\n",
       "    <tr>\n",
       "      <th>2020-03-12</th>\n",
       "      <td>4.741472</td>\n",
       "    </tr>\n",
       "    <tr>\n",
       "      <th>2020-03-13</th>\n",
       "      <td>5.158896</td>\n",
       "    </tr>\n",
       "    <tr>\n",
       "      <th>2020-03-14</th>\n",
       "      <td>5.460585</td>\n",
       "    </tr>\n",
       "    <tr>\n",
       "      <th>2020-03-15</th>\n",
       "      <td>7.542060</td>\n",
       "    </tr>\n",
       "    <tr>\n",
       "      <th>2020-03-16</th>\n",
       "      <td>7.566566</td>\n",
       "    </tr>\n",
       "    <tr>\n",
       "      <th>2020-03-17</th>\n",
       "      <td>8.127149</td>\n",
       "    </tr>\n",
       "  </tbody>\n",
       "</table>\n",
       "</div>"
      ],
      "text/plain": [
       "               Cases\n",
       "2020-03-08  2.833408\n",
       "2020-03-09  2.500074\n",
       "2020-03-10  2.928447\n",
       "2020-03-11  3.791006\n",
       "2020-03-12  4.741472\n",
       "2020-03-13  5.158896\n",
       "2020-03-14  5.460585\n",
       "2020-03-15  7.542060\n",
       "2020-03-16  7.566566\n",
       "2020-03-17  8.127149"
      ]
     },
     "execution_count": 233,
     "metadata": {},
     "output_type": "execute_result"
    }
   ],
   "source": [
    "minusMovAvg2 = date_case_2_sqrt - movingAverage2\n",
    "minusMovAvg2.head(12)\n",
    "\n",
    "##remove null values\n",
    "minusMovAvg2.dropna(inplace = True)\n",
    "minusMovAvg2.head(10)"
   ]
  },
  {
   "cell_type": "code",
   "execution_count": 234,
   "metadata": {
    "scrolled": true
   },
   "outputs": [
    {
     "data": {
      "image/png": "[encoded data removed]",
      "text/plain": [
       "<Figure size 432x288 with 1 Axes>"
      ]
     },
     "metadata": {},
     "output_type": "display_data"
    }
   ],
   "source": [
    "plt.plot(minusMovAvg2)\n",
    "plt.plot(movingAverage2, color = 'red', label = 'RollingMean')\n",
    "plt.plot(movingStd2, color = 'black', label = 'RollingStd')\n",
    "plt.show()"
   ]
  },
  {
   "cell_type": "code",
   "execution_count": 235,
   "metadata": {
    "scrolled": true
   },
   "outputs": [
    {
     "name": "stdout",
     "output_type": "stream",
     "text": [
      "Results of Dickey-Fuller Test\n",
      "Test Statistic                  4.616363\n",
      "p-value                         1.000000\n",
      "#Lags Used                      3.000000\n",
      "Number of Observations Used    75.000000\n",
      "Critical Value (1%)            -3.520713\n",
      "Critical Value (5%)            -2.900925\n",
      "Critical Value (10%)           -2.587781\n",
      "dtype: float64\n"
     ]
    }
   ],
   "source": [
    "print(\"Results of Dickey-Fuller Test\")\n",
    "test = adfuller(date_case_2_sqrt['Cases'], autolag = \"AIC\")\n",
    "\n",
    "output = pd.Series(test[0:4], index = ['Test Statistic', 'p-value', '#Lags Used', 'Number of Observations Used'])\n",
    "for k,v in test[4].items():\n",
    "    output['Critical Value (%s)'%k] = v\n",
    "    \n",
    "print(output)"
   ]
  },
  {
   "cell_type": "code",
   "execution_count": 236,
   "metadata": {},
   "outputs": [
    {
     "name": "stdout",
     "output_type": "stream",
     "text": [
      "Results of Dickey-Fuller Test\n",
      "Test Statistic                  4.616363\n",
      "p-value                         1.000000\n",
      "#Lags Used                      3.000000\n",
      "Number of Observations Used    75.000000\n",
      "Critical Value (1%)            -3.520713\n",
      "Critical Value (5%)            -2.900925\n",
      "Critical Value (10%)           -2.587781\n",
      "dtype: float64\n"
     ]
    },
    {
     "data": {
      "image/png": "[encoded data removed]",
      "text/plain": [
       "<Figure size 432x288 with 1 Axes>"
      ]
     },
     "metadata": {},
     "output_type": "display_data"
    }
   ],
   "source": [
    "weight_avg2 = date_case_2_sqrt.ewm(halflife = 12, min_periods = 0, adjust = True).mean()\n",
    "plt.plot(date_case_2_sqrt)\n",
    "plt.plot(weight_avg2, color = 'red')\n",
    "test_stationarity(date_case_2_sqrt)"
   ]
  },
  {
   "cell_type": "code",
   "execution_count": 237,
   "metadata": {},
   "outputs": [],
   "source": [
    "X_sqrt = date_case_2_sqrt.dropna()\n",
    "train_sq = X_sqrt[1: len(X_sqrt) - 9]\n",
    "test_sq = X_sqrt[len(X_sqrt) - 9:]"
   ]
  },
  {
   "cell_type": "code",
   "execution_count": 238,
   "metadata": {
    "scrolled": true
   },
   "outputs": [
    {
     "name": "stdout",
     "output_type": "stream",
     "text": [
      "the lag value is: 11\n"
     ]
    },
    {
     "name": "stderr",
     "output_type": "stream",
     "text": [
      "/Users/anyaaggarwal/anaconda3/lib/python3.6/site-packages/statsmodels/tsa/base/tsa_model.py:171: ValueWarning: No frequency information was provided, so inferred frequency D will be used.\n",
      "  % freq, ValueWarning)\n"
     ]
    }
   ],
   "source": [
    "model_sqrt = AR(train_sq)\n",
    "model_fitted_sqrt = model_sqrt.fit()\n",
    "print('the lag value is: %s' % model_fitted_sqrt.k_ar)"
   ]
  },
  {
   "cell_type": "code",
   "execution_count": 239,
   "metadata": {},
   "outputs": [
    {
     "name": "stdout",
     "output_type": "stream",
     "text": [
      "2020-05-06    350.472125\n",
      "2020-05-07    362.779046\n",
      "2020-05-08    374.769086\n",
      "2020-05-09    385.966421\n",
      "2020-05-10    396.866027\n",
      "2020-05-11    408.669007\n",
      "2020-05-12    421.395536\n",
      "2020-05-13    434.657847\n",
      "2020-05-14    448.482629\n",
      "Freq: D, dtype: float64\n"
     ]
    },
    {
     "data": {
      "text/plain": [
       "[<matplotlib.lines.Line2D at 0x1c24784c18>]"
      ]
     },
     "execution_count": 239,
     "metadata": {},
     "output_type": "execute_result"
    },
    {
     "data": {
      "image/png": "[encoded data removed]",
      "text/plain": [
       "<Figure size 432x288 with 1 Axes>"
      ]
     },
     "metadata": {},
     "output_type": "display_data"
    }
   ],
   "source": [
    "predict_sqrt = model_fitted_sqrt.predict(start = len(train_sq), end = len(train_sq) + len(test_sq) - 1, dynamic = False)\n",
    "print(predict_sqrt)\n",
    "\n",
    "plt.plot(date_case_2_sqrt['Cases'].tail(9))\n",
    "plt.plot(predict_sqrt, color = 'red')"
   ]
  },
  {
   "cell_type": "code",
   "execution_count": 124,
   "metadata": {
    "scrolled": true
   },
   "outputs": [
    {
     "data": {
      "text/plain": [
       "<matplotlib.axes._subplots.AxesSubplot at 0x1a14697ac8>"
      ]
     },
     "execution_count": 124,
     "metadata": {},
     "output_type": "execute_result"
    },
    {
     "data": {
      "image/png": "[encoded data removed]",
      "text/plain": [
       "<Figure size 432x288 with 1 Axes>"
      ]
     },
     "metadata": {},
     "output_type": "display_data"
    }
   ],
   "source": [
    "##differencing \n",
    "date_case_2['CasesDiff'] = date_case_2['Cases'] = date_case_2['Cases'].shift(1)\n",
    "date_case_2['CasesDiff'].dropna().plot()"
   ]
  }
 ],
 "metadata": {
  "kernelspec": {
   "display_name": "Python 3",
   "language": "python",
   "name": "python3"
  },
  "language_info": {
   "codemirror_mode": {
    "name": "ipython",
    "version": 3
   },
   "file_extension": ".py",
   "mimetype": "text/x-python",
   "name": "python",
   "nbconvert_exporter": "python",
   "pygments_lexer": "ipython3",
   "version": "3.6.5"
  }
 },
 "nbformat": 4,
 "nbformat_minor": 2
}
